{
  "nbformat": 4,
  "nbformat_minor": 0,
  "metadata": {
    "colab": {
      "name": "Linkedlist Practice questions.ipynb",
      "provenance": [],
      "authorship_tag": "ABX9TyPrm+Ies/cNg9W7VUEjH6Sm",
      "include_colab_link": true
    },
    "kernelspec": {
      "name": "python3",
      "display_name": "Python 3"
    },
    "language_info": {
      "name": "python"
    }
  },
  "cells": [
    {
      "cell_type": "markdown",
      "metadata": {
        "id": "view-in-github",
        "colab_type": "text"
      },
      "source": [
        "<a href=\"https://colab.research.google.com/github/Nandeesh-U/Coding_Practice_DSA/blob/main/Linkedlist_Practice_questions.ipynb\" target=\"_parent\"><img src=\"https://colab.research.google.com/assets/colab-badge.svg\" alt=\"Open In Colab\"/></a>"
      ]
    },
    {
      "cell_type": "code",
      "execution_count": 1,
      "metadata": {
        "id": "xmjFhn4ncdEq"
      },
      "outputs": [],
      "source": [
        "class Node:\n",
        "  def __init__(self,nodeValue=None):\n",
        "    self.value = nodeValue\n",
        "    self.prev = None\n",
        "    self.next = None\n",
        "  \n",
        "  def __str__(self):\n",
        "    return str(self.value)"
      ]
    },
    {
      "cell_type": "code",
      "source": [
        "from random import randint\n",
        "class LinkedList:\n",
        "  def __init__(self, value = None):\n",
        "    self.head = None\n",
        "    self.tail = None\n",
        "  \n",
        "  def __iter__(self):\n",
        "    node = self.head\n",
        "    while node:\n",
        "      yield node\n",
        "      node = node.next\n",
        "  \n",
        "  def __str__(self):\n",
        "    values = [str(x.value) for x in self]\n",
        "    return ' --> '.join(values)\n",
        "  \n",
        "  def __len__(self):\n",
        "    result = 0\n",
        "    node = self.head\n",
        "    while node:\n",
        "      result += 1\n",
        "      node = node.next\n",
        "    return result\n",
        "  \n",
        "  def add(self,value):\n",
        "    if self.head is None:\n",
        "      newNode = Node(value)\n",
        "      self.head = newNode\n",
        "      self.tail = newNode\n",
        "    else:\n",
        "      self.tail.next = Node(value)\n",
        "      self.tail = self.tail.next\n",
        "    return self.tail\n",
        "  \n",
        "  def generate(self, n, min_value, max_value):\n",
        "    self.head = None\n",
        "    self.tail = None\n",
        "    for i in range(n):\n",
        "      self.add(randint(min_value, max_value))\n",
        "    return self"
      ],
      "metadata": {
        "id": "haKXfSd0chp-"
      },
      "execution_count": 2,
      "outputs": []
    },
    {
      "cell_type": "markdown",
      "source": [
        "## **Q1)**\n",
        "Write a function to remove duplicates in an unsorted linked list."
      ],
      "metadata": {
        "id": "FZJ_2ADCcnuk"
      }
    },
    {
      "cell_type": "code",
      "source": [
        "# generating a test set\n",
        "test = LinkedList()\n",
        "test.generate(15,0,10)\n",
        "print(test)"
      ],
      "metadata": {
        "colab": {
          "base_uri": "https://localhost:8080/"
        },
        "id": "JKTDGDwIcjAr",
        "outputId": "b589e4ca-ea53-4313-b4a6-e915b28f3df4"
      },
      "execution_count": 33,
      "outputs": [
        {
          "output_type": "stream",
          "name": "stdout",
          "text": [
            "0 --> 4 --> 10 --> 1 --> 6 --> 8 --> 0 --> 4 --> 8 --> 4 --> 4 --> 2 --> 6 --> 7 --> 10\n"
          ]
        }
      ]
    },
    {
      "cell_type": "code",
      "source": [
        "test.add(16)"
      ],
      "metadata": {
        "colab": {
          "base_uri": "https://localhost:8080/"
        },
        "id": "TUo5k1nJmB6a",
        "outputId": "d0693e0e-807b-4734-80c3-c8509394e5f6"
      },
      "execution_count": 45,
      "outputs": [
        {
          "output_type": "execute_result",
          "data": {
            "text/plain": [
              "<__main__.Node at 0x7fc9b44ef450>"
            ]
          },
          "metadata": {},
          "execution_count": 45
        }
      ]
    },
    {
      "cell_type": "code",
      "source": [
        "print(test)"
      ],
      "metadata": {
        "colab": {
          "base_uri": "https://localhost:8080/"
        },
        "id": "xbGFvNTvmGKu",
        "outputId": "a7f16d44-6f12-4377-8875-73d218bf5e7e"
      },
      "execution_count": 46,
      "outputs": [
        {
          "output_type": "stream",
          "name": "stdout",
          "text": [
            "0 --> 4 --> 10 --> 1 --> 6 --> 8 --> 2 --> 7 --> 16\n"
          ]
        }
      ]
    },
    {
      "cell_type": "code",
      "source": [
        "def remove_dups(linked_list):\n",
        "  unique_elems = list()\n",
        "  node = linked_list.head\n",
        "  index = 0\n",
        "  unique_elems.append(node.value)\n",
        "  while node.next: ###-------------->O(n*2)\n",
        "    if node.next.value in unique_elems: ###--------------------------->O(n)\n",
        "      if node.next == linked_list.tail:\n",
        "        node.next = None\n",
        "        linked_list.tail = node\n",
        "      else:\n",
        "        nextNode = node.next\n",
        "        node.next = nextNode.next\n",
        "    else:\n",
        "      unique_elems.append(node.next.value) ###----------------------------> O(1)\n",
        "    node = node.next"
      ],
      "metadata": {
        "id": "qTzv7PVKc6Kt"
      },
      "execution_count": 42,
      "outputs": []
    },
    {
      "cell_type": "code",
      "source": [
        "remove_dups(test)"
      ],
      "metadata": {
        "id": "LrnVDl59jiB6"
      },
      "execution_count": 47,
      "outputs": []
    },
    {
      "cell_type": "code",
      "source": [
        "print(test)"
      ],
      "metadata": {
        "colab": {
          "base_uri": "https://localhost:8080/"
        },
        "id": "F8X7iPLwjkJ7",
        "outputId": "3f581410-aced-4c71-f8eb-90d57c6a963d"
      },
      "execution_count": 48,
      "outputs": [
        {
          "output_type": "stream",
          "name": "stdout",
          "text": [
            "0 --> 4 --> 10 --> 1 --> 6 --> 8 --> 2 --> 7 --> 16\n"
          ]
        }
      ]
    },
    {
      "cell_type": "markdown",
      "source": [
        "So the time complexity is O(n^2)"
      ],
      "metadata": {
        "id": "e8HsYynAm4ZA"
      }
    },
    {
      "cell_type": "code",
      "source": [
        ""
      ],
      "metadata": {
        "id": "1zDl5K3Zj3dc"
      },
      "execution_count": null,
      "outputs": []
    }
  ]
}