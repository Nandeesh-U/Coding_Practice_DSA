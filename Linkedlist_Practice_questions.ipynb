{
  "nbformat": 4,
  "nbformat_minor": 0,
  "metadata": {
    "colab": {
      "name": "Linkedlist Practice questions.ipynb",
      "provenance": [],
      "authorship_tag": "ABX9TyOzxSf/u0lPA83AwlSK2RWB",
      "include_colab_link": true
    },
    "kernelspec": {
      "name": "python3",
      "display_name": "Python 3"
    },
    "language_info": {
      "name": "python"
    }
  },
  "cells": [
    {
      "cell_type": "markdown",
      "metadata": {
        "id": "view-in-github",
        "colab_type": "text"
      },
      "source": [
        "<a href=\"https://colab.research.google.com/github/Nandeesh-U/Coding_Practice_DSA/blob/main/Linkedlist_Practice_questions.ipynb\" target=\"_parent\"><img src=\"https://colab.research.google.com/assets/colab-badge.svg\" alt=\"Open In Colab\"/></a>"
      ]
    },
    {
      "cell_type": "code",
      "execution_count": 1,
      "metadata": {
        "id": "xmjFhn4ncdEq"
      },
      "outputs": [],
      "source": [
        "class Node:\n",
        "  def __init__(self,nodeValue=None):\n",
        "    self.value = nodeValue\n",
        "    self.prev = None\n",
        "    self.next = None\n",
        "  \n",
        "  def __str__(self):\n",
        "    return str(self.value)"
      ]
    },
    {
      "cell_type": "code",
      "source": [
        "from random import randint\n",
        "class LinkedList:\n",
        "  def __init__(self, value = None):\n",
        "    self.head = None\n",
        "    self.tail = None\n",
        "  \n",
        "  def __iter__(self):\n",
        "    node = self.head\n",
        "    while node:\n",
        "      yield node\n",
        "      node = node.next\n",
        "  \n",
        "  def __str__(self):\n",
        "    values = [str(x.value) for x in self]\n",
        "    return ' --> '.join(values)\n",
        "  \n",
        "  def __len__(self):\n",
        "    result = 0\n",
        "    node = self.head\n",
        "    while node:\n",
        "      result += 1\n",
        "      node = node.next\n",
        "    return result\n",
        "  \n",
        "  def add(self,value):\n",
        "    if self.head is None:\n",
        "      newNode = Node(value)\n",
        "      self.head = newNode\n",
        "      self.tail = newNode\n",
        "    else:\n",
        "      self.tail.next = Node(value)\n",
        "      self.tail = self.tail.next\n",
        "    return self.tail\n",
        "  \n",
        "  def generate(self, n, min_value, max_value):\n",
        "    self.head = None\n",
        "    self.tail = None\n",
        "    for i in range(n):\n",
        "      self.add(randint(min_value, max_value))\n",
        "    return self"
      ],
      "metadata": {
        "id": "haKXfSd0chp-"
      },
      "execution_count": 2,
      "outputs": []
    },
    {
      "cell_type": "markdown",
      "source": [
        "## **Q1)**\n",
        "Write a function to remove duplicates in an unsorted linked list."
      ],
      "metadata": {
        "id": "FZJ_2ADCcnuk"
      }
    },
    {
      "cell_type": "code",
      "source": [
        "# generating a test set\n",
        "test = LinkedList()\n",
        "test.generate(15,0,10)\n",
        "print(test)"
      ],
      "metadata": {
        "colab": {
          "base_uri": "https://localhost:8080/"
        },
        "id": "JKTDGDwIcjAr",
        "outputId": "b589e4ca-ea53-4313-b4a6-e915b28f3df4"
      },
      "execution_count": 33,
      "outputs": [
        {
          "output_type": "stream",
          "name": "stdout",
          "text": [
            "0 --> 4 --> 10 --> 1 --> 6 --> 8 --> 0 --> 4 --> 8 --> 4 --> 4 --> 2 --> 6 --> 7 --> 10\n"
          ]
        }
      ]
    },
    {
      "cell_type": "code",
      "source": [
        "test.add(16)"
      ],
      "metadata": {
        "colab": {
          "base_uri": "https://localhost:8080/"
        },
        "id": "TUo5k1nJmB6a",
        "outputId": "d0693e0e-807b-4734-80c3-c8509394e5f6"
      },
      "execution_count": 45,
      "outputs": [
        {
          "output_type": "execute_result",
          "data": {
            "text/plain": [
              "<__main__.Node at 0x7fc9b44ef450>"
            ]
          },
          "metadata": {},
          "execution_count": 45
        }
      ]
    },
    {
      "cell_type": "code",
      "source": [
        "print(test)"
      ],
      "metadata": {
        "colab": {
          "base_uri": "https://localhost:8080/"
        },
        "id": "xbGFvNTvmGKu",
        "outputId": "a7f16d44-6f12-4377-8875-73d218bf5e7e"
      },
      "execution_count": 46,
      "outputs": [
        {
          "output_type": "stream",
          "name": "stdout",
          "text": [
            "0 --> 4 --> 10 --> 1 --> 6 --> 8 --> 2 --> 7 --> 16\n"
          ]
        }
      ]
    },
    {
      "cell_type": "code",
      "source": [
        "def remove_dups(linked_list):\n",
        "  unique_elems = list()\n",
        "  node = linked_list.head\n",
        "  index = 0\n",
        "  unique_elems.append(node.value)\n",
        "  while node.next: ###-------------->O(n*2)\n",
        "    if node.next.value in unique_elems: ###--------------------------->O(n)\n",
        "      if node.next == linked_list.tail:\n",
        "        node.next = None\n",
        "        linked_list.tail = node\n",
        "      else:\n",
        "        nextNode = node.next\n",
        "        node.next = nextNode.next\n",
        "    else:\n",
        "      unique_elems.append(node.next.value) ###----------------------------> O(1)\n",
        "    node = node.next"
      ],
      "metadata": {
        "id": "qTzv7PVKc6Kt"
      },
      "execution_count": 42,
      "outputs": []
    },
    {
      "cell_type": "code",
      "source": [
        "remove_dups(test)"
      ],
      "metadata": {
        "id": "LrnVDl59jiB6"
      },
      "execution_count": 47,
      "outputs": []
    },
    {
      "cell_type": "code",
      "source": [
        "print(test)"
      ],
      "metadata": {
        "colab": {
          "base_uri": "https://localhost:8080/"
        },
        "id": "F8X7iPLwjkJ7",
        "outputId": "3f581410-aced-4c71-f8eb-90d57c6a963d"
      },
      "execution_count": 48,
      "outputs": [
        {
          "output_type": "stream",
          "name": "stdout",
          "text": [
            "0 --> 4 --> 10 --> 1 --> 6 --> 8 --> 2 --> 7 --> 16\n"
          ]
        }
      ]
    },
    {
      "cell_type": "markdown",
      "source": [
        "So the time complexity is O(n^2)"
      ],
      "metadata": {
        "id": "e8HsYynAm4ZA"
      }
    },
    {
      "cell_type": "code",
      "source": [
        ""
      ],
      "metadata": {
        "id": "1zDl5K3Zj3dc"
      },
      "execution_count": null,
      "outputs": []
    },
    {
      "cell_type": "markdown",
      "source": [
        "## **Q2)**\n",
        "Find the nth element from the last in a singly linked list"
      ],
      "metadata": {
        "id": "Jbn4xvJ1nKb3"
      }
    },
    {
      "cell_type": "code",
      "source": [
        "# generating a test case\n",
        "test = LinkedList()\n",
        "test.generate(20,0,10)\n",
        "print(test)"
      ],
      "metadata": {
        "colab": {
          "base_uri": "https://localhost:8080/"
        },
        "id": "3ufdpjyPnIuK",
        "outputId": "0b41874c-bc98-40c0-b6a9-794284b6e065"
      },
      "execution_count": 49,
      "outputs": [
        {
          "output_type": "stream",
          "name": "stdout",
          "text": [
            "10 --> 3 --> 7 --> 8 --> 3 --> 0 --> 4 --> 10 --> 1 --> 4 --> 9 --> 2 --> 10 --> 10 --> 9 --> 0 --> 2 --> 5 --> 10 --> 8\n"
          ]
        }
      ]
    },
    {
      "cell_type": "code",
      "source": [
        "def nthFromLast(linked_list,n):\n",
        "  node = linked_list.head\n",
        "  index = 0\n",
        "  while node: #--------------------------> O(n)\n",
        "    node = node.next\n",
        "    index+=1\n",
        "  len_ll = index\n",
        "  resultIndex = len_ll-n\n",
        "  if resultIndex<0:\n",
        "    return 'n should be less than the length of the linked list'\n",
        "  index = 0\n",
        "  node = linked_list.head\n",
        "  while node: #--------------------------------> O(n)\n",
        "    if index == resultIndex:\n",
        "      return node.value\n",
        "    index+=1\n",
        "    node = node.next"
      ],
      "metadata": {
        "id": "UN0MwO7kne7w"
      },
      "execution_count": 60,
      "outputs": []
    },
    {
      "cell_type": "code",
      "source": [
        "nthFromLast(test,3)"
      ],
      "metadata": {
        "colab": {
          "base_uri": "https://localhost:8080/"
        },
        "id": "cRPdTaqhn-Zg",
        "outputId": "ec3c608e-99d3-490b-efeb-77428f943841"
      },
      "execution_count": 61,
      "outputs": [
        {
          "output_type": "execute_result",
          "data": {
            "text/plain": [
              "5"
            ]
          },
          "metadata": {},
          "execution_count": 61
        }
      ]
    },
    {
      "cell_type": "code",
      "source": [
        "nthFromLast(test,8)"
      ],
      "metadata": {
        "colab": {
          "base_uri": "https://localhost:8080/"
        },
        "id": "oDzZIpksoBrw",
        "outputId": "3225c636-07ef-4c72-9fe8-82b7f3a1439d"
      },
      "execution_count": 62,
      "outputs": [
        {
          "output_type": "execute_result",
          "data": {
            "text/plain": [
              "10"
            ]
          },
          "metadata": {},
          "execution_count": 62
        }
      ]
    },
    {
      "cell_type": "code",
      "source": [
        "nthFromLast(test,20)"
      ],
      "metadata": {
        "colab": {
          "base_uri": "https://localhost:8080/"
        },
        "id": "jIhWHjv1pccR",
        "outputId": "9dc87de5-f2c6-4d15-819f-edb0fc204bb5"
      },
      "execution_count": 63,
      "outputs": [
        {
          "output_type": "execute_result",
          "data": {
            "text/plain": [
              "10"
            ]
          },
          "metadata": {},
          "execution_count": 63
        }
      ]
    },
    {
      "cell_type": "code",
      "source": [
        "nthFromLast(test,23)"
      ],
      "metadata": {
        "colab": {
          "base_uri": "https://localhost:8080/",
          "height": 35
        },
        "id": "Mydr1HEwphGn",
        "outputId": "a350907c-2a13-4ba9-916d-5819896b6db3"
      },
      "execution_count": 64,
      "outputs": [
        {
          "output_type": "execute_result",
          "data": {
            "text/plain": [
              "'n should be less than the length of the linked list'"
            ],
            "application/vnd.google.colaboratory.intrinsic+json": {
              "type": "string"
            }
          },
          "metadata": {},
          "execution_count": 64
        }
      ]
    },
    {
      "cell_type": "markdown",
      "source": [
        "so the time complexity is O(n)"
      ],
      "metadata": {
        "id": "iLF1OKPLpsWu"
      }
    },
    {
      "cell_type": "markdown",
      "source": [
        "##**Q3)**"
      ],
      "metadata": {
        "id": "BgMTGjrfpxI0"
      }
    },
    {
      "cell_type": "code",
      "source": [
        ""
      ],
      "metadata": {
        "id": "3shTe9Kgpj2W"
      },
      "execution_count": null,
      "outputs": []
    }
  ]
}