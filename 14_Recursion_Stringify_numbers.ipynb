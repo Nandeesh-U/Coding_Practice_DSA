{
  "nbformat": 4,
  "nbformat_minor": 0,
  "metadata": {
    "colab": {
      "name": "14. Recursion - Stringify numbers.ipynb",
      "provenance": [],
      "authorship_tag": "ABX9TyOt+VIJdewbkz5Zqx1pCcqN",
      "include_colab_link": true
    },
    "kernelspec": {
      "name": "python3",
      "display_name": "Python 3"
    },
    "language_info": {
      "name": "python"
    }
  },
  "cells": [
    {
      "cell_type": "markdown",
      "metadata": {
        "id": "view-in-github",
        "colab_type": "text"
      },
      "source": [
        "<a href=\"https://colab.research.google.com/github/Nandeesh-U/Coding_Practice_DSA/blob/main/14_Recursion_Stringify_numbers.ipynb\" target=\"_parent\"><img src=\"https://colab.research.google.com/assets/colab-badge.svg\" alt=\"Open In Colab\"/></a>"
      ]
    },
    {
      "cell_type": "markdown",
      "source": [
        "Write a function called stringifyNumbers which takes in an object and finds all the values which are numbers and converts them to strings. Recursion would be a great way to solve this"
      ],
      "metadata": {
        "id": "LeokHDeXv_z5"
      }
    },
    {
      "cell_type": "code",
      "execution_count": 22,
      "metadata": {
        "id": "HjQn893yv32b"
      },
      "outputs": [],
      "source": [
        "def stringifyNumbers(obj):\n",
        "  for obj_key in obj.keys():\n",
        "    if type(obj[obj_key]) is dict:\n",
        "      obj[obj_key] = stringifyNumbers(obj[obj_key])\n",
        "    elif type(obj[obj_key]) is int:\n",
        "      obj[obj_key] = str(obj[obj_key])\n",
        "  return obj"
      ]
    },
    {
      "cell_type": "code",
      "source": [
        "# Creating a test case\n",
        "obj = {'num':1,\n",
        "       'test':[],\n",
        "       'data':{\n",
        "           'val':4,\n",
        "           'info':{\n",
        "               'isright':True,\n",
        "               'random': 66\n",
        "           }\n",
        "       }}"
      ],
      "metadata": {
        "id": "syJguDGoxi0A"
      },
      "execution_count": 23,
      "outputs": []
    },
    {
      "cell_type": "code",
      "source": [
        "stringifyNumbers(obj)"
      ],
      "metadata": {
        "colab": {
          "base_uri": "https://localhost:8080/"
        },
        "id": "lnxwO5eHxnQ2",
        "outputId": "af2685ac-88af-445b-fb4c-d4bfc5f1ba71"
      },
      "execution_count": 24,
      "outputs": [
        {
          "output_type": "execute_result",
          "data": {
            "text/plain": [
              "{'data': {'info': {'isright': True, 'random': '66'}, 'val': '4'},\n",
              " 'num': '1',\n",
              " 'test': []}"
            ]
          },
          "metadata": {},
          "execution_count": 24
        }
      ]
    },
    {
      "cell_type": "code",
      "source": [
        "obj"
      ],
      "metadata": {
        "colab": {
          "base_uri": "https://localhost:8080/"
        },
        "id": "DWFB3ZhXyc-s",
        "outputId": "fb8e065a-83d7-4497-8c35-0df8d82dd8ab"
      },
      "execution_count": 12,
      "outputs": [
        {
          "output_type": "execute_result",
          "data": {
            "text/plain": [
              "{'data': {'fsdf': 'bullshit', 'info': 34343}, 'num': '1', 'test': []}"
            ]
          },
          "metadata": {},
          "execution_count": 12
        }
      ]
    },
    {
      "cell_type": "code",
      "source": [
        ""
      ],
      "metadata": {
        "id": "cMqWwAZByofR"
      },
      "execution_count": null,
      "outputs": []
    }
  ]
}