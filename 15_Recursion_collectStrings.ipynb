{
  "nbformat": 4,
  "nbformat_minor": 0,
  "metadata": {
    "colab": {
      "name": "15. Recursion - collectStrings.ipynb",
      "provenance": [],
      "authorship_tag": "ABX9TyM0lc8LR3QpJbJC9H16Ql9O",
      "include_colab_link": true
    },
    "kernelspec": {
      "name": "python3",
      "display_name": "Python 3"
    },
    "language_info": {
      "name": "python"
    }
  },
  "cells": [
    {
      "cell_type": "markdown",
      "metadata": {
        "id": "view-in-github",
        "colab_type": "text"
      },
      "source": [
        "<a href=\"https://colab.research.google.com/github/Nandeesh-U/Coding_Practice_DSA/blob/main/15_Recursion_collectStrings.ipynb\" target=\"_parent\"><img src=\"https://colab.research.google.com/assets/colab-badge.svg\" alt=\"Open In Colab\"/></a>"
      ]
    },
    {
      "cell_type": "markdown",
      "source": [
        "write a function called collectStrings which accepts an object and returns an array of all the values of the objects that are strings"
      ],
      "metadata": {
        "id": "o0vr0n42zthH"
      }
    },
    {
      "cell_type": "code",
      "execution_count": 1,
      "metadata": {
        "id": "Jcxv-Ce0zk5E"
      },
      "outputs": [],
      "source": [
        "# Creating a test case\n",
        "obj = {\n",
        "    'stuff':'foo',\n",
        "    'data':{\n",
        "        'val':{\n",
        "            'thing':{\n",
        "                'info':'bar',\n",
        "                'moreinfo':{\n",
        "                    'evenmoreinfo':{\n",
        "                        'wemadeit': 'baz'\n",
        "                    }\n",
        "                }\n",
        "            }\n",
        "        }\n",
        "    }\n",
        "}"
      ]
    },
    {
      "cell_type": "code",
      "source": [
        "def collectStrings(obj):\n",
        "  result = []\n",
        "  for obj_key in obj.keys():\n",
        "    if type(obj[obj_key]) is dict:\n",
        "      result = result + collectStrings(obj[obj_key])\n",
        "    elif type(obj[obj_key]) is str:\n",
        "      result = result + [obj[obj_key]]\n",
        "  return result"
      ],
      "metadata": {
        "id": "V9TqJcAF0WBO"
      },
      "execution_count": 4,
      "outputs": []
    },
    {
      "cell_type": "code",
      "source": [
        "collectStrings(obj)"
      ],
      "metadata": {
        "colab": {
          "base_uri": "https://localhost:8080/"
        },
        "id": "CJrKByLA03JS",
        "outputId": "779de15b-dfda-429c-99c0-b55d21471eb6"
      },
      "execution_count": 5,
      "outputs": [
        {
          "output_type": "execute_result",
          "data": {
            "text/plain": [
              "['foo', 'bar', 'baz']"
            ]
          },
          "metadata": {},
          "execution_count": 5
        }
      ]
    },
    {
      "cell_type": "code",
      "source": [
        ""
      ],
      "metadata": {
        "id": "g2xHZje81Ciz"
      },
      "execution_count": null,
      "outputs": []
    }
  ]
}