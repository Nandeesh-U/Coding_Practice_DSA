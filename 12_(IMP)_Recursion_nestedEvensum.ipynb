{
  "nbformat": 4,
  "nbformat_minor": 0,
  "metadata": {
    "colab": {
      "name": "12. (IMP) Recursion - nestedEvensum.ipynb",
      "provenance": [],
      "authorship_tag": "ABX9TyNS9QQBFgRz09DhtgBeB0Pp",
      "include_colab_link": true
    },
    "kernelspec": {
      "name": "python3",
      "display_name": "Python 3"
    },
    "language_info": {
      "name": "python"
    }
  },
  "cells": [
    {
      "cell_type": "markdown",
      "metadata": {
        "id": "view-in-github",
        "colab_type": "text"
      },
      "source": [
        "<a href=\"https://colab.research.google.com/github/Nandeesh-U/Coding_Practice_DSA/blob/main/12_(IMP)_Recursion_nestedEvensum.ipynb\" target=\"_parent\"><img src=\"https://colab.research.google.com/assets/colab-badge.svg\" alt=\"Open In Colab\"/></a>"
      ]
    },
    {
      "cell_type": "code",
      "execution_count": 24,
      "metadata": {
        "id": "qx1dy-_-oTmj"
      },
      "outputs": [],
      "source": [
        "# Creating sample objects for testing\n",
        "obj1 = {\n",
        "  \"outer\": 8,\n",
        "  \"obj\": {\n",
        "    \"inner\": 4,\n",
        "    \"otherObj\": {\n",
        "      \"superInner\": 2,\n",
        "      \"notANumber\": True,\n",
        "      \"alsoNotANumber\": \"yup\"\n",
        "    }\n",
        "  }\n",
        "}\n",
        "\n",
        "obj2 = {\n",
        "  \"a\": 2,\n",
        "  \"b\": {\"b\": 2, \"bb\": {\"b\": 3, \"bb\": {\"b\": 2}}},\n",
        "  \"c\": {\"c\": {\"c\": 2}, \"cc\": 'ball', \"ccc\": 5},\n",
        "  \"d\": 1,\n",
        "  \"e\": {\"e\": {\"e\": 2}, \"ee\": 'car'}\n",
        "}"
      ]
    },
    {
      "cell_type": "code",
      "source": [
        "def nestedEvenSum(obj, sum=0):\n",
        "  for obj_key in obj.keys():\n",
        "    if type(obj[obj_key]) is dict:\n",
        "      sum = nestedEvenSum(obj[obj_key],sum)\n",
        "    elif (type(obj[obj_key]) is int):\n",
        "      if (obj[obj_key])%2 == 0:\n",
        "        sum = sum + obj[obj_key]\n",
        "  return sum"
      ],
      "metadata": {
        "id": "DJ6FbBv1pPpI"
      },
      "execution_count": 32,
      "outputs": []
    },
    {
      "cell_type": "code",
      "source": [
        "nestedEvenSum(obj1,0)"
      ],
      "metadata": {
        "colab": {
          "base_uri": "https://localhost:8080/"
        },
        "id": "IV4CkA3Kram_",
        "outputId": "2f14b44e-7945-4e99-fabd-03dc0f878bb7"
      },
      "execution_count": 33,
      "outputs": [
        {
          "output_type": "execute_result",
          "data": {
            "text/plain": [
              "14"
            ]
          },
          "metadata": {},
          "execution_count": 33
        }
      ]
    },
    {
      "cell_type": "code",
      "source": [
        "nestedEvenSum(obj2)"
      ],
      "metadata": {
        "colab": {
          "base_uri": "https://localhost:8080/"
        },
        "id": "Y3ggm-VJri-D",
        "outputId": "60eb9787-21f9-4afd-8dcd-5bbc68b91083"
      },
      "execution_count": 34,
      "outputs": [
        {
          "output_type": "execute_result",
          "data": {
            "text/plain": [
              "10"
            ]
          },
          "metadata": {},
          "execution_count": 34
        }
      ]
    },
    {
      "cell_type": "code",
      "source": [
        ""
      ],
      "metadata": {
        "id": "_vFe4aiFrnf4"
      },
      "execution_count": null,
      "outputs": []
    }
  ]
}