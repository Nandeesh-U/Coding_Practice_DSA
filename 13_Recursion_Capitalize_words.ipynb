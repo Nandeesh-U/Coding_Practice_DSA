{
  "nbformat": 4,
  "nbformat_minor": 0,
  "metadata": {
    "colab": {
      "name": "13. Recursion - Capitalize words.ipynb",
      "provenance": [],
      "authorship_tag": "ABX9TyMsyDY1KZAWxPbo6DYaoIK2",
      "include_colab_link": true
    },
    "kernelspec": {
      "name": "python3",
      "display_name": "Python 3"
    },
    "language_info": {
      "name": "python"
    }
  },
  "cells": [
    {
      "cell_type": "markdown",
      "metadata": {
        "id": "view-in-github",
        "colab_type": "text"
      },
      "source": [
        "<a href=\"https://colab.research.google.com/github/Nandeesh-U/Coding_Practice_DSA/blob/main/13_Recursion_Capitalize_words.ipynb\" target=\"_parent\"><img src=\"https://colab.research.google.com/assets/colab-badge.svg\" alt=\"Open In Colab\"/></a>"
      ]
    },
    {
      "cell_type": "markdown",
      "source": [
        "Given an array of words return an array containing each word capitalized"
      ],
      "metadata": {
        "id": "KaXVn1WpvJRp"
      }
    },
    {
      "cell_type": "code",
      "execution_count": 1,
      "metadata": {
        "id": "8X9AjDfbvDDG"
      },
      "outputs": [],
      "source": [
        "def capitalizeWords(arr):\n",
        "  if len(arr)==0:\n",
        "    return []\n",
        "  else:\n",
        "    return [arr[0].upper()]+capitalizeWords(arr[1:])"
      ]
    },
    {
      "cell_type": "code",
      "source": [
        "capitalizeWords(['my','name','is','don'])"
      ],
      "metadata": {
        "colab": {
          "base_uri": "https://localhost:8080/"
        },
        "id": "CF-1l2A1vgBk",
        "outputId": "e3820060-be00-40b1-faaf-e7b474f389ff"
      },
      "execution_count": 2,
      "outputs": [
        {
          "output_type": "execute_result",
          "data": {
            "text/plain": [
              "['MY', 'NAME', 'IS', 'DON']"
            ]
          },
          "metadata": {},
          "execution_count": 2
        }
      ]
    },
    {
      "cell_type": "code",
      "source": [
        ""
      ],
      "metadata": {
        "id": "TPXdj8YWvluj"
      },
      "execution_count": null,
      "outputs": []
    }
  ]
}