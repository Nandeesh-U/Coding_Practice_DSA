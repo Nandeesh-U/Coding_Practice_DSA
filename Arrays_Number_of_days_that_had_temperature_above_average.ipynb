{
  "nbformat": 4,
  "nbformat_minor": 0,
  "metadata": {
    "colab": {
      "name": "Arrays - Number of days that had temperature above average.ipynb",
      "provenance": [],
      "authorship_tag": "ABX9TyMz+c5DXgDBgD5GPl0ATe3l",
      "include_colab_link": true
    },
    "kernelspec": {
      "name": "python3",
      "display_name": "Python 3"
    },
    "language_info": {
      "name": "python"
    }
  },
  "cells": [
    {
      "cell_type": "markdown",
      "metadata": {
        "id": "view-in-github",
        "colab_type": "text"
      },
      "source": [
        "<a href=\"https://colab.research.google.com/github/Nandeesh-U/Coding_Practice_DSA/blob/main/Arrays_Number_of_days_that_had_temperature_above_average.ipynb\" target=\"_parent\"><img src=\"https://colab.research.google.com/assets/colab-badge.svg\" alt=\"Open In Colab\"/></a>"
      ]
    },
    {
      "cell_type": "markdown",
      "source": [
        "Implement a python project that asks the user to enter number of days and highest temperature on each day. The function should return the number of days on which the temperature was above average."
      ],
      "metadata": {
        "id": "HZigCfQCvqE1"
      }
    },
    {
      "cell_type": "code",
      "execution_count": 16,
      "metadata": {
        "id": "WkJf9I0aviNr"
      },
      "outputs": [],
      "source": [
        "def n_Days():\n",
        "  n = int(input('Please enter the number of days'))\n",
        "  assert (int(n) ==n) and (n>0), 'the number of days should be a positive integer only'\n",
        "  temps = list()\n",
        "\n",
        "  for i in range(n):\n",
        "    inp = float(input(f\"please enter the highest temperature on Day {1}:  \"))\n",
        "    assert inp >=0 , 'temperature should be greater than or equal to zero only'\n",
        "    temps.append(inp)\n",
        "  avg = (sum(temps)/len(temps))\n",
        "  result = 0\n",
        "  for temp in temps:\n",
        "    if temp > avg:\n",
        "      result = result+1\n",
        "    else:\n",
        "      pass\n",
        "  return result"
      ]
    },
    {
      "cell_type": "code",
      "source": [
        "n_Days()"
      ],
      "metadata": {
        "colab": {
          "base_uri": "https://localhost:8080/"
        },
        "id": "7qU9gbRfwcg2",
        "outputId": "9fe00b22-59db-4b11-99c6-ebc04837da5e"
      },
      "execution_count": 18,
      "outputs": [
        {
          "name": "stdout",
          "output_type": "stream",
          "text": [
            "Please enter the number of days5\n",
            "please enter the highest temperature on Day 1:  10\n",
            "please enter the highest temperature on Day 1:  20\n",
            "please enter the highest temperature on Day 1:  30\n",
            "please enter the highest temperature on Day 1:  40\n",
            "please enter the highest temperature on Day 1:  50\n"
          ]
        },
        {
          "output_type": "execute_result",
          "data": {
            "text/plain": [
              "2"
            ]
          },
          "metadata": {},
          "execution_count": 18
        }
      ]
    },
    {
      "cell_type": "code",
      "source": [
        "0"
      ],
      "metadata": {
        "colab": {
          "base_uri": "https://localhost:8080/"
        },
        "id": "2JJqH7lDx4i5",
        "outputId": "5b99d60d-06f9-473d-fdd1-938244d36b76"
      },
      "execution_count": 19,
      "outputs": [
        {
          "output_type": "execute_result",
          "data": {
            "text/plain": [
              "0"
            ]
          },
          "metadata": {},
          "execution_count": 19
        }
      ]
    },
    {
      "cell_type": "code",
      "source": [
        ""
      ],
      "metadata": {
        "id": "33rlOVQoypwR"
      },
      "execution_count": null,
      "outputs": []
    }
  ]
}