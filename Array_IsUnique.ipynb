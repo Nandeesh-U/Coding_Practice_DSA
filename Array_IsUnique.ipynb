{
  "nbformat": 4,
  "nbformat_minor": 0,
  "metadata": {
    "colab": {
      "name": "Array - IsUnique.ipynb",
      "provenance": [],
      "authorship_tag": "ABX9TyNSxi+dj2R6JJpkQDQUdCL9",
      "include_colab_link": true
    },
    "kernelspec": {
      "name": "python3",
      "display_name": "Python 3"
    },
    "language_info": {
      "name": "python"
    }
  },
  "cells": [
    {
      "cell_type": "markdown",
      "metadata": {
        "id": "view-in-github",
        "colab_type": "text"
      },
      "source": [
        "<a href=\"https://colab.research.google.com/github/Nandeesh-U/Coding_Practice_DSA/blob/main/Array_IsUnique.ipynb\" target=\"_parent\"><img src=\"https://colab.research.google.com/assets/colab-badge.svg\" alt=\"Open In Colab\"/></a>"
      ]
    },
    {
      "cell_type": "markdown",
      "source": [
        "Implement an algorithm to check if all the elements of given list are unique."
      ],
      "metadata": {
        "id": "0llMcVbaIDGD"
      }
    },
    {
      "cell_type": "code",
      "execution_count": null,
      "metadata": {
        "id": "xylk4c3pzRju"
      },
      "outputs": [],
      "source": [
        "def check_Unique(my_list):\n",
        "  tmp = list()\n",
        "  for i in my_list:\n",
        "    if not (i in tmp):\n",
        "      tmp.append(i)\n",
        "  if len(tmp)==len(my_list):\n",
        "    return True\n",
        "  else:\n",
        "    return False"
      ]
    },
    {
      "cell_type": "code",
      "source": [
        "my_list = [1,2,3,4,5,6,7,8]"
      ],
      "metadata": {
        "id": "pPFEn1qoIhuo"
      },
      "execution_count": null,
      "outputs": []
    },
    {
      "cell_type": "code",
      "source": [
        "check_Unique(my_list)"
      ],
      "metadata": {
        "colab": {
          "base_uri": "https://localhost:8080/"
        },
        "id": "BoiVYOTHI9kx",
        "outputId": "d4fb878c-0052-4bf0-e08f-fd318e6806a4"
      },
      "execution_count": null,
      "outputs": [
        {
          "output_type": "execute_result",
          "data": {
            "text/plain": [
              "True"
            ]
          },
          "metadata": {},
          "execution_count": 6
        }
      ]
    },
    {
      "cell_type": "code",
      "source": [
        "my_list = [1,2,4,3,2,1,3]"
      ],
      "metadata": {
        "id": "VuZV3B50JAN4"
      },
      "execution_count": 15,
      "outputs": []
    },
    {
      "cell_type": "code",
      "source": [
        "check_Unique(my_list)"
      ],
      "metadata": {
        "colab": {
          "base_uri": "https://localhost:8080/"
        },
        "id": "U6CpTYOEJEQV",
        "outputId": "f597f3ee-93a4-4bf0-a673-b7104f919ad0"
      },
      "execution_count": null,
      "outputs": [
        {
          "output_type": "execute_result",
          "data": {
            "text/plain": [
              "False"
            ]
          },
          "metadata": {},
          "execution_count": 8
        }
      ]
    },
    {
      "cell_type": "code",
      "source": [
        "# A better one in terms of time complexity\n",
        "def check_Unique(my_list):\n",
        "  tmp = list()\n",
        "  for i in my_list:\n",
        "    if i in tmp:\n",
        "      return False\n",
        "    else:\n",
        "      tmp.append(i)\n",
        "  return True"
      ],
      "metadata": {
        "id": "PrMH8tJQJHH7"
      },
      "execution_count": 12,
      "outputs": []
    },
    {
      "cell_type": "code",
      "source": [
        "check_Unique(my_list)"
      ],
      "metadata": {
        "colab": {
          "base_uri": "https://localhost:8080/"
        },
        "id": "O-6_Nu9YJydI",
        "outputId": "2b21f44b-f3e5-4092-e3a6-41624c073591"
      },
      "execution_count": 16,
      "outputs": [
        {
          "output_type": "execute_result",
          "data": {
            "text/plain": [
              "False"
            ]
          },
          "metadata": {},
          "execution_count": 16
        }
      ]
    },
    {
      "cell_type": "code",
      "source": [
        "my_list = [1,2,3,4,5,6,7,8]"
      ],
      "metadata": {
        "id": "79qn0_NVJ1KG"
      },
      "execution_count": 17,
      "outputs": []
    },
    {
      "cell_type": "code",
      "source": [
        "check_Unique(my_list)"
      ],
      "metadata": {
        "colab": {
          "base_uri": "https://localhost:8080/"
        },
        "id": "hS66YcIMJ3ts",
        "outputId": "dd0a89f8-9071-476f-c0ea-9f0615106eea"
      },
      "execution_count": 18,
      "outputs": [
        {
          "output_type": "execute_result",
          "data": {
            "text/plain": [
              "True"
            ]
          },
          "metadata": {},
          "execution_count": 18
        }
      ]
    },
    {
      "cell_type": "code",
      "source": [
        ""
      ],
      "metadata": {
        "id": "d0ICkG_QJ_xY"
      },
      "execution_count": null,
      "outputs": []
    }
  ]
}