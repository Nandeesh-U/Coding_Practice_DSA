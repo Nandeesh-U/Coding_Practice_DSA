{
  "nbformat": 4,
  "nbformat_minor": 0,
  "metadata": {
    "colab": {
      "name": "8. Recursion - Ispalindrome.ipynb",
      "provenance": [],
      "authorship_tag": "ABX9TyMS6o40jEjd6trTYNtfXy4k",
      "include_colab_link": true
    },
    "kernelspec": {
      "name": "python3",
      "display_name": "Python 3"
    },
    "language_info": {
      "name": "python"
    }
  },
  "cells": [
    {
      "cell_type": "markdown",
      "metadata": {
        "id": "view-in-github",
        "colab_type": "text"
      },
      "source": [
        "<a href=\"https://colab.research.google.com/github/Nandeesh-U/Coding_Practice_DSA/blob/main/8_Recursion_Ispalindrome.ipynb\" target=\"_parent\"><img src=\"https://colab.research.google.com/assets/colab-badge.svg\" alt=\"Open In Colab\"/></a>"
      ]
    },
    {
      "cell_type": "markdown",
      "source": [
        "Write a recursive function to check if a given string is palindrome"
      ],
      "metadata": {
        "id": "a71_kY6yjifb"
      }
    },
    {
      "cell_type": "code",
      "execution_count": 1,
      "metadata": {
        "id": "nnx3blajjg0I"
      },
      "outputs": [],
      "source": [
        "def isPalindrome(strng):\n",
        "  if (len(strng) == 0) or (len(strng)==1):\n",
        "    return True\n",
        "  else:\n",
        "    return (strng[0]==strng[-1]) and isPalindrome(strng[1:-1])"
      ]
    },
    {
      "cell_type": "code",
      "source": [
        "isPalindrome('awesome')"
      ],
      "metadata": {
        "colab": {
          "base_uri": "https://localhost:8080/"
        },
        "id": "jTs8UsTVjtKF",
        "outputId": "447feb24-5281-4f23-dc9d-25428d9bd8ce"
      },
      "execution_count": 2,
      "outputs": [
        {
          "output_type": "execute_result",
          "data": {
            "text/plain": [
              "False"
            ]
          },
          "metadata": {},
          "execution_count": 2
        }
      ]
    },
    {
      "cell_type": "code",
      "source": [
        "isPalindrome('amanappanama')"
      ],
      "metadata": {
        "colab": {
          "base_uri": "https://localhost:8080/"
        },
        "id": "Z6psILKgj0WF",
        "outputId": "b8de1ff7-1b07-4f86-bafd-5ddb9d112ba4"
      },
      "execution_count": 3,
      "outputs": [
        {
          "output_type": "execute_result",
          "data": {
            "text/plain": [
              "True"
            ]
          },
          "metadata": {},
          "execution_count": 3
        }
      ]
    },
    {
      "cell_type": "code",
      "source": [
        ""
      ],
      "metadata": {
        "id": "C4DStwywj-ml"
      },
      "execution_count": null,
      "outputs": []
    }
  ]
}