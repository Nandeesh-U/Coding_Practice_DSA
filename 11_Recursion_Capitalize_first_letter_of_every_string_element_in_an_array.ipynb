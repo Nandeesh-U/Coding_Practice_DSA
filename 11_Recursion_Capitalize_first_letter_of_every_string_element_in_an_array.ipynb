{
  "nbformat": 4,
  "nbformat_minor": 0,
  "metadata": {
    "colab": {
      "name": "11. Recursion - Capitalize first letter of every string element in an array.ipynb",
      "provenance": [],
      "authorship_tag": "ABX9TyMn/sASVe/GbFARX9P1HFJz",
      "include_colab_link": true
    },
    "kernelspec": {
      "name": "python3",
      "display_name": "Python 3"
    },
    "language_info": {
      "name": "python"
    }
  },
  "cells": [
    {
      "cell_type": "markdown",
      "metadata": {
        "id": "view-in-github",
        "colab_type": "text"
      },
      "source": [
        "<a href=\"https://colab.research.google.com/github/Nandeesh-U/Coding_Practice_DSA/blob/main/11_Recursion_Capitalize_first_letter_of_every_string_element_in_an_array.ipynb\" target=\"_parent\"><img src=\"https://colab.research.google.com/assets/colab-badge.svg\" alt=\"Open In Colab\"/></a>"
      ]
    },
    {
      "cell_type": "markdown",
      "source": [
        "Write a recursive function called capitalizeFirst. Given an array of strings, capitalize the first letter of each string in the array."
      ],
      "metadata": {
        "id": "l6A5qErtnFEw"
      }
    },
    {
      "cell_type": "code",
      "execution_count": 1,
      "metadata": {
        "id": "6IhqwbpEm3_-"
      },
      "outputs": [],
      "source": [
        "def capitalizeFirst(arr):\n",
        "  if len(arr)==0:\n",
        "    return []\n",
        "  else:\n",
        "    return [arr[0][0].upper()+arr[0][1:]] + capitalizeFirst(arr[1:])"
      ]
    },
    {
      "cell_type": "code",
      "source": [
        "capitalizeFirst(['nandi','bro','Cool'])"
      ],
      "metadata": {
        "colab": {
          "base_uri": "https://localhost:8080/"
        },
        "id": "qWiTCduAn8Ca",
        "outputId": "5e1b8b04-a178-4731-8886-a08b3bb6e47c"
      },
      "execution_count": 2,
      "outputs": [
        {
          "output_type": "execute_result",
          "data": {
            "text/plain": [
              "['Nandi', 'Bro', 'Cool']"
            ]
          },
          "metadata": {},
          "execution_count": 2
        }
      ]
    },
    {
      "cell_type": "code",
      "source": [
        ""
      ],
      "metadata": {
        "id": "h9OJTR6toGqz"
      },
      "execution_count": null,
      "outputs": []
    }
  ]
}