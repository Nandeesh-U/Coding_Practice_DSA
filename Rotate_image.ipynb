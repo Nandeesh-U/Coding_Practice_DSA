{
  "nbformat": 4,
  "nbformat_minor": 0,
  "metadata": {
    "colab": {
      "name": "Rotate image.ipynb",
      "provenance": [],
      "authorship_tag": "ABX9TyNJEg97GCkSCwast/aVoLBu",
      "include_colab_link": true
    },
    "kernelspec": {
      "name": "python3",
      "display_name": "Python 3"
    },
    "language_info": {
      "name": "python"
    }
  },
  "cells": [
    {
      "cell_type": "markdown",
      "metadata": {
        "id": "view-in-github",
        "colab_type": "text"
      },
      "source": [
        "<a href=\"https://colab.research.google.com/github/Nandeesh-U/Coding_Practice_DSA/blob/main/Rotate_image.ipynb\" target=\"_parent\"><img src=\"https://colab.research.google.com/assets/colab-badge.svg\" alt=\"Open In Colab\"/></a>"
      ]
    },
    {
      "cell_type": "markdown",
      "source": [
        "You are given an n x n 2D matrix representing an image, rotate the image by 90 degrees (clockwise).\n",
        "\n",
        "You have to rotate the image in-place, which means you have to modify the input 2D matrix directly. DO NOT allocate another 2D matrix and do the rotation."
      ],
      "metadata": {
        "id": "Ihqu9u9BPXEI"
      }
    },
    {
      "cell_type": "markdown",
      "source": [
        "Constraints:\n",
        "\n",
        "n == matrix.length == matrix[i].length\n",
        "\n",
        "1 <= n <= 20\n",
        "\n",
        "-1000 <= matrix[i][j] <= 1000"
      ],
      "metadata": {
        "id": "eo6E9cmSPeiK"
      }
    },
    {
      "cell_type": "code",
      "execution_count": 2,
      "metadata": {
        "id": "-yFxhab-PWmO"
      },
      "outputs": [],
      "source": [
        "def rotate(matrix):\n",
        "    \"\"\"\n",
        "    Do not return anything, modify matrix in-place instead.\n",
        "    \"\"\"\n",
        "    n = len(matrix)\n",
        "    # we will update the matrix layer by layer i,e., by updating one outer layer after another\n",
        "    num_layers = n//2\n",
        "    for layer in range(num_layers):\n",
        "        # storing the index of first and last elements in the layer\n",
        "        first = layer\n",
        "        last = n-1-layer\n",
        "        # Looping through each element in the first row of the given layer upto last but one element and updating all its corresponding 4 elements\n",
        "        for i in range(first,last):\n",
        "            # storing the top left element\n",
        "            tl = matrix[layer][i]\n",
        "            # putting bottom left element in top left\n",
        "            matrix[layer][i] = matrix[-i-1][layer]\n",
        "            # putting bottom right element in bottom left\n",
        "            matrix[-i-1][layer] = matrix[-layer-1][-i-1]\n",
        "            # putting top right element in bottom right\n",
        "            matrix[-layer-1][-i-1] = matrix[i][-layer-1]\n",
        "            # putting top left element in top right\n",
        "            matrix[i][-layer-1] = tl"
      ]
    },
    {
      "cell_type": "code",
      "source": [
        "test = [[1,2,3,4,5],[6,7,8,9,10],[11,12,13,14,15],[16,17,18,19,20],[21,22,23,24,25]]"
      ],
      "metadata": {
        "id": "7UKi9FiTPp1k"
      },
      "execution_count": 6,
      "outputs": []
    },
    {
      "cell_type": "code",
      "source": [
        "rotate(test)\n",
        "print(test)"
      ],
      "metadata": {
        "colab": {
          "base_uri": "https://localhost:8080/"
        },
        "id": "pnzcwJIkP-X2",
        "outputId": "f60c8b18-07a2-40fc-e5a0-dbeed44d5599"
      },
      "execution_count": 7,
      "outputs": [
        {
          "output_type": "stream",
          "name": "stdout",
          "text": [
            "[[21, 16, 11, 6, 1], [22, 17, 12, 7, 2], [23, 18, 13, 8, 3], [24, 19, 14, 9, 4], [25, 20, 15, 10, 5]]\n"
          ]
        }
      ]
    },
    {
      "cell_type": "code",
      "source": [
        ""
      ],
      "metadata": {
        "id": "h4PWc9S6QAy-"
      },
      "execution_count": null,
      "outputs": []
    }
  ]
}