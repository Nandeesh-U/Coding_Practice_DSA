{
  "nbformat": 4,
  "nbformat_minor": 0,
  "metadata": {
    "colab": {
      "name": "7. Recursion - Reverse a string.ipynb",
      "provenance": [],
      "authorship_tag": "ABX9TyNFPzPCSK934V+r4dTWsM94",
      "include_colab_link": true
    },
    "kernelspec": {
      "name": "python3",
      "display_name": "Python 3"
    },
    "language_info": {
      "name": "python"
    }
  },
  "cells": [
    {
      "cell_type": "markdown",
      "metadata": {
        "id": "view-in-github",
        "colab_type": "text"
      },
      "source": [
        "<a href=\"https://colab.research.google.com/github/Nandeesh-U/Coding_Practice_DSA/blob/main/7_Recursion_Reverse_a_string.ipynb\" target=\"_parent\"><img src=\"https://colab.research.google.com/assets/colab-badge.svg\" alt=\"Open In Colab\"/></a>"
      ]
    },
    {
      "cell_type": "code",
      "execution_count": 1,
      "metadata": {
        "id": "T3ZhAU4kiLo0"
      },
      "outputs": [],
      "source": [
        "def reverse(strng):\n",
        "  if len(strng)==1:\n",
        "    return strng\n",
        "  else:\n",
        "    return reverse(strng[1:])+strng[0]"
      ]
    },
    {
      "cell_type": "code",
      "source": [
        "reverse('nandeesh')"
      ],
      "metadata": {
        "colab": {
          "base_uri": "https://localhost:8080/",
          "height": 35
        },
        "id": "bcBAlaghiWQv",
        "outputId": "ee4a75a9-2086-47b2-8e08-fde1263f9132"
      },
      "execution_count": 2,
      "outputs": [
        {
          "output_type": "execute_result",
          "data": {
            "text/plain": [
              "'hseednan'"
            ],
            "application/vnd.google.colaboratory.intrinsic+json": {
              "type": "string"
            }
          },
          "metadata": {},
          "execution_count": 2
        }
      ]
    },
    {
      "cell_type": "code",
      "source": [
        "reverse('gnitisiv rof uoy knaht')"
      ],
      "metadata": {
        "colab": {
          "base_uri": "https://localhost:8080/",
          "height": 35
        },
        "id": "H5va4LNMiZKJ",
        "outputId": "ee462581-f4b8-46f9-9ce7-7299dedd253d"
      },
      "execution_count": 6,
      "outputs": [
        {
          "output_type": "execute_result",
          "data": {
            "text/plain": [
              "'thank you for visiting'"
            ],
            "application/vnd.google.colaboratory.intrinsic+json": {
              "type": "string"
            }
          },
          "metadata": {},
          "execution_count": 6
        }
      ]
    },
    {
      "cell_type": "code",
      "source": [
        ""
      ],
      "metadata": {
        "id": "9Mr1CBFFieIJ"
      },
      "execution_count": null,
      "outputs": []
    }
  ]
}