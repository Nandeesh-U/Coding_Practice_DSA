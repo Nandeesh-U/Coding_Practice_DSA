{
  "nbformat": 4,
  "nbformat_minor": 0,
  "metadata": {
    "colab": {
      "name": "9. Recursion - someRecursive.ipynb",
      "provenance": [],
      "authorship_tag": "ABX9TyNHyae9seIrO+kuU9hz97Tt",
      "include_colab_link": true
    },
    "kernelspec": {
      "name": "python3",
      "display_name": "Python 3"
    },
    "language_info": {
      "name": "python"
    }
  },
  "cells": [
    {
      "cell_type": "markdown",
      "metadata": {
        "id": "view-in-github",
        "colab_type": "text"
      },
      "source": [
        "<a href=\"https://colab.research.google.com/github/Nandeesh-U/Coding_Practice_DSA/blob/main/9_Recursion_someRecursive.ipynb\" target=\"_parent\"><img src=\"https://colab.research.google.com/assets/colab-badge.svg\" alt=\"Open In Colab\"/></a>"
      ]
    },
    {
      "cell_type": "markdown",
      "source": [
        "Write a recursive function called someRecursive that takes an array and a callback function as inputs and returns true if atleast one of the values in the array returns true when passed to the callback function."
      ],
      "metadata": {
        "id": "nCkvM3jWlMRn"
      }
    },
    {
      "cell_type": "code",
      "execution_count": 1,
      "metadata": {
        "id": "4i_bcLY4lGm6"
      },
      "outputs": [],
      "source": [
        "def someRecursive(arr, cb):\n",
        "  if len(arr)==1:\n",
        "    return cb(arr[0])\n",
        "  else:\n",
        "    return cb(arr[0]) or someRecursive(arr[1:],cb)"
      ]
    },
    {
      "cell_type": "code",
      "source": [
        "# Defining a callback function for testing\n",
        "def isOdd(num):\n",
        "  if num%2==0:\n",
        "    return False\n",
        "  else:\n",
        "    return True"
      ],
      "metadata": {
        "id": "-WIxdbX7lnPC"
      },
      "execution_count": 2,
      "outputs": []
    },
    {
      "cell_type": "code",
      "source": [
        "someRecursive([1,2,3,4],isOdd)"
      ],
      "metadata": {
        "colab": {
          "base_uri": "https://localhost:8080/"
        },
        "id": "U1qvElDdlvum",
        "outputId": "602de076-4c5b-406a-d9da-4d3c514e4516"
      },
      "execution_count": 3,
      "outputs": [
        {
          "output_type": "execute_result",
          "data": {
            "text/plain": [
              "True"
            ]
          },
          "metadata": {},
          "execution_count": 3
        }
      ]
    },
    {
      "cell_type": "code",
      "source": [
        "someRecursive([2,4,6,8,4],isOdd)"
      ],
      "metadata": {
        "colab": {
          "base_uri": "https://localhost:8080/"
        },
        "id": "vDqL3u10l12F",
        "outputId": "8b772558-ecdb-48e1-9377-0bae6c4f4002"
      },
      "execution_count": 4,
      "outputs": [
        {
          "output_type": "execute_result",
          "data": {
            "text/plain": [
              "False"
            ]
          },
          "metadata": {},
          "execution_count": 4
        }
      ]
    },
    {
      "cell_type": "code",
      "source": [
        ""
      ],
      "metadata": {
        "id": "OvjxyEzvl6tV"
      },
      "execution_count": null,
      "outputs": []
    }
  ]
}