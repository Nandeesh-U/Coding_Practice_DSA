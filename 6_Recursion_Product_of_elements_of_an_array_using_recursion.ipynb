{
  "nbformat": 4,
  "nbformat_minor": 0,
  "metadata": {
    "colab": {
      "name": "6. Recursion - Product of elements of an array using recursion.ipynb",
      "provenance": [],
      "authorship_tag": "ABX9TyPdUFc36QwHbnID87BXt74C",
      "include_colab_link": true
    },
    "kernelspec": {
      "name": "python3",
      "display_name": "Python 3"
    },
    "language_info": {
      "name": "python"
    }
  },
  "cells": [
    {
      "cell_type": "markdown",
      "metadata": {
        "id": "view-in-github",
        "colab_type": "text"
      },
      "source": [
        "<a href=\"https://colab.research.google.com/github/Nandeesh-U/Coding_Practice_DSA/blob/main/6_Recursion_Product_of_elements_of_an_array_using_recursion.ipynb\" target=\"_parent\"><img src=\"https://colab.research.google.com/assets/colab-badge.svg\" alt=\"Open In Colab\"/></a>"
      ]
    },
    {
      "cell_type": "code",
      "execution_count": 1,
      "metadata": {
        "id": "Y2uaZrpcgCQi"
      },
      "outputs": [],
      "source": [
        "def productOfArray(arr):\n",
        "    if len(arr)==0:\n",
        "        return 1\n",
        "    else:\n",
        "        return arr[0]*productOfArray(arr[1:])"
      ]
    },
    {
      "cell_type": "code",
      "source": [
        "productOfArray([1,2,3,4,5])"
      ],
      "metadata": {
        "colab": {
          "base_uri": "https://localhost:8080/"
        },
        "id": "WevQjZB2gJhy",
        "outputId": "52117c7b-0499-4557-ef18-83fe7e36a17c"
      },
      "execution_count": 2,
      "outputs": [
        {
          "output_type": "execute_result",
          "data": {
            "text/plain": [
              "120"
            ]
          },
          "metadata": {},
          "execution_count": 2
        }
      ]
    },
    {
      "cell_type": "code",
      "source": [
        "productOfArray([3,2,7,-4,5])"
      ],
      "metadata": {
        "colab": {
          "base_uri": "https://localhost:8080/"
        },
        "id": "NyXzTQkXgNzM",
        "outputId": "e6339059-f156-4f90-bdd8-ca72da068cd8"
      },
      "execution_count": 3,
      "outputs": [
        {
          "output_type": "execute_result",
          "data": {
            "text/plain": [
              "-840"
            ]
          },
          "metadata": {},
          "execution_count": 3
        }
      ]
    },
    {
      "cell_type": "code",
      "source": [
        ""
      ],
      "metadata": {
        "id": "3hbeL2cFgSiw"
      },
      "execution_count": null,
      "outputs": []
    }
  ]
}