{
  "nbformat": 4,
  "nbformat_minor": 0,
  "metadata": {
    "colab": {
      "name": "DSA_Notes.ipynb",
      "provenance": [],
      "collapsed_sections": [],
      "authorship_tag": "ABX9TyPzoq2ql75ja5V5x2GjsMza",
      "include_colab_link": true
    },
    "kernelspec": {
      "name": "python3",
      "display_name": "Python 3"
    },
    "language_info": {
      "name": "python"
    }
  },
  "cells": [
    {
      "cell_type": "markdown",
      "metadata": {
        "id": "view-in-github",
        "colab_type": "text"
      },
      "source": [
        "<a href=\"https://colab.research.google.com/github/Nandeesh-U/Coding_Practice_DSA/blob/main/DSA_Notes.ipynb\" target=\"_parent\"><img src=\"https://colab.research.google.com/assets/colab-badge.svg\" alt=\"Open In Colab\"/></a>"
      ]
    },
    {
      "cell_type": "markdown",
      "source": [
        "#**Recursion**"
      ],
      "metadata": {
        "id": "YCs0ATptmcEZ"
      }
    },
    {
      "cell_type": "code",
      "source": [
        "def recursiveMethod(n):\n",
        "  if n<1:\n",
        "    print('n is less than 1')\n",
        "  else:\n",
        "    recursiveMethod(n-1)\n",
        "    print(n)"
      ],
      "metadata": {
        "id": "U9fTl1q8XAP2"
      },
      "execution_count": 1,
      "outputs": []
    },
    {
      "cell_type": "code",
      "source": [
        "recursiveMethod(5)"
      ],
      "metadata": {
        "colab": {
          "base_uri": "https://localhost:8080/"
        },
        "id": "rebs3krrmkLy",
        "outputId": "6a5eefad-6c44-4539-b179-cbc6c0dd5ec4"
      },
      "execution_count": 2,
      "outputs": [
        {
          "output_type": "stream",
          "name": "stdout",
          "text": [
            "n is less than 1\n",
            "1\n",
            "2\n",
            "3\n",
            "4\n",
            "5\n"
          ]
        }
      ]
    },
    {
      "cell_type": "markdown",
      "source": [
        "Stack Memory when we execute this function:\n",
        "* recursiveMethod(0) which will not be pushed to the stack since it does not call any function inside itself. It just executes the print statement.\n",
        "* recursiveMethod(1)\n",
        "* recursiveMethod(2)\n",
        "* recursiveMethod(3)\n",
        "* recursiveMethod(4)\n",
        "* recursiveMethod(5)"
      ],
      "metadata": {
        "id": "i2OQtbM8m2aV"
      }
    },
    {
      "cell_type": "markdown",
      "source": [
        "Each of the above functions will be popped once the function is executed sequentially from the base condition towards the bottom most funtion in the stack. (execute recursiveMethod(0) which is the base condition, then execute recursiveMethod(1), pop recursiveMethod(1), then execute recursiveMethod(2), pop recursiveMethod(2) and so on until the stack is empty"
      ],
      "metadata": {
        "id": "EHa3C_lYoICl"
      }
    },
    {
      "cell_type": "markdown",
      "source": [
        "## **How to write recursion in 3 steps:**"
      ],
      "metadata": {
        "id": "PF7sgxrbcOVw"
      }
    },
    {
      "cell_type": "markdown",
      "source": [
        "Example: Factorial(n)"
      ],
      "metadata": {
        "id": "91JqCHt9cUSb"
      }
    },
    {
      "cell_type": "markdown",
      "source": [
        "**Step 1: Recursive case**\n",
        "* For every recursion problem, the first step we need to identify is the recursive case.\n",
        "* We need to find how a function can be obtained using the same function. In case of factorial function, we need to find an equation to get factorial from another factorial.\n",
        "* It means we need to have an equation, where we have factorial function on LHS as well as RHS. ---> n! = n * (n-1)!\n",
        "\n",
        "```\n",
        "def Factorial(n):\n",
        "  return n * Factorial(n-1)\n",
        "```\n",
        "**Step 2: Base case - the stopping criteria.**\n",
        "* If we do not put the base condition, the stack memory will be exceeded and an error will occur.\n",
        "* Base condition for the factorial function is 1!= 1 / 0! = 1\n",
        "```\n",
        "def Factorial(n):\n",
        "  if n<=1:\n",
        "    return 1\n",
        "  else:\n",
        "    return n*Factorial(n-1) \n",
        "```\n",
        "\n",
        "**Step 3: unintentional case - the constraint**\n",
        "* These are the unintentional cases. For factorial problem, if we put n as a negative number or a non integer number, the function will again run into stack memory error.\n",
        "* We can use the assert keyword in python to throw an error if the condition is not met.\n",
        "\n",
        "```\n",
        "def Factorial(n):\n",
        "  assert n>=0 and int(n)==n, 'The number must be a positive integer only!'\n",
        "  if n<=1:\n",
        "    return 1\n",
        "  else:\n",
        "    return n*Factorial(n-1)   \n",
        "```"
      ],
      "metadata": {
        "id": "iyjnl0P6cYCu"
      }
    },
    {
      "cell_type": "markdown",
      "source": [
        "Recursion problems have stack memory limits. In python you can increase the stack memory limit for recursion using the sys library."
      ],
      "metadata": {
        "id": "E0VC4CG4eALU"
      }
    },
    {
      "cell_type": "markdown",
      "source": [
        "# **Arrays**"
      ],
      "metadata": {
        "id": "9XsmNmjSIS4E"
      }
    },
    {
      "cell_type": "code",
      "source": [
        "from array import *"
      ],
      "metadata": {
        "id": "vV9nvsbVm1Mw"
      },
      "execution_count": 3,
      "outputs": []
    },
    {
      "cell_type": "markdown",
      "source": [
        "![image.png](data:image/png;base64,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)"
      ],
      "metadata": {
        "id": "jTrIWBrrJ0sK"
      }
    },
    {
      "cell_type": "markdown",
      "source": [
        "* A signed integer is a 32-bit datum that encodes an integer in the range [-2147483648 to 2147483647]. An unsigned integer is a 32-bit datum that encodes a nonnegative integer in the range [0 to 4294967295]."
      ],
      "metadata": {
        "id": "Nc60j8W4KzNW"
      }
    },
    {
      "cell_type": "markdown",
      "source": [
        "Syntax to initialize an array:\n",
        "```\n",
        "array(typecode,[initializers])\n",
        "```\n",
        "\n",
        "typecode is the datatype code listed in the image above.\n",
        "initializers are the elements to be assigned in the array."
      ],
      "metadata": {
        "id": "jQV9C08OJ5Ll"
      }
    },
    {
      "cell_type": "code",
      "source": [
        "arr1 = array('i',[1,2,3,4,5,6])"
      ],
      "metadata": {
        "id": "aQh8eMp6Jbod"
      },
      "execution_count": 4,
      "outputs": []
    },
    {
      "cell_type": "code",
      "source": [
        "arr1"
      ],
      "metadata": {
        "colab": {
          "base_uri": "https://localhost:8080/"
        },
        "id": "1K7YuKEZLlsP",
        "outputId": "f3032a0c-dd0e-41df-cf86-0eac2d5e18e1"
      },
      "execution_count": 5,
      "outputs": [
        {
          "output_type": "execute_result",
          "data": {
            "text/plain": [
              "array('i', [1, 2, 3, 4, 5, 6])"
            ]
          },
          "metadata": {},
          "execution_count": 5
        }
      ]
    },
    {
      "cell_type": "code",
      "source": [
        "arr2 = array('d',[1.2,1.3,1.5])"
      ],
      "metadata": {
        "id": "1i-jnM7MLmpj"
      },
      "execution_count": 6,
      "outputs": []
    },
    {
      "cell_type": "code",
      "source": [
        "arr2"
      ],
      "metadata": {
        "colab": {
          "base_uri": "https://localhost:8080/"
        },
        "id": "2iDI0QBPMNdX",
        "outputId": "8d7400ce-1c0b-4aea-e525-73dc1dce5b61"
      },
      "execution_count": 7,
      "outputs": [
        {
          "output_type": "execute_result",
          "data": {
            "text/plain": [
              "array('d', [1.2, 1.3, 1.5])"
            ]
          },
          "metadata": {},
          "execution_count": 7
        }
      ]
    },
    {
      "cell_type": "markdown",
      "source": [
        "Time complexity of creating an array is O(1) in most languages. But some languages have a time complexity of O(n) as they assign elements one by one."
      ],
      "metadata": {
        "id": "aWo0l0B3Mrfd"
      }
    },
    {
      "cell_type": "code",
      "source": [
        "arr1.insert(6,7)  # arr1.insert(position to put the new element, new element)"
      ],
      "metadata": {
        "id": "XICWTZEiMO0H"
      },
      "execution_count": 8,
      "outputs": []
    },
    {
      "cell_type": "code",
      "source": [
        "arr1"
      ],
      "metadata": {
        "colab": {
          "base_uri": "https://localhost:8080/"
        },
        "id": "muSrC1RXOKst",
        "outputId": "ac208228-8c8e-4b28-9b74-9ae6494f61f5"
      },
      "execution_count": 9,
      "outputs": [
        {
          "output_type": "execute_result",
          "data": {
            "text/plain": [
              "array('i', [1, 2, 3, 4, 5, 6, 7])"
            ]
          },
          "metadata": {},
          "execution_count": 9
        }
      ]
    },
    {
      "cell_type": "code",
      "source": [
        "arr1.insert(0,0)"
      ],
      "metadata": {
        "id": "rEyIUDrdOLqu"
      },
      "execution_count": 10,
      "outputs": []
    },
    {
      "cell_type": "code",
      "source": [
        "arr1"
      ],
      "metadata": {
        "colab": {
          "base_uri": "https://localhost:8080/"
        },
        "id": "EjMJpfW6OPwP",
        "outputId": "e86f2edd-36f6-4537-b35d-9b582157738c"
      },
      "execution_count": 11,
      "outputs": [
        {
          "output_type": "execute_result",
          "data": {
            "text/plain": [
              "array('i', [0, 1, 2, 3, 4, 5, 6, 7])"
            ]
          },
          "metadata": {},
          "execution_count": 11
        }
      ]
    },
    {
      "cell_type": "code",
      "source": [
        "def traverseArray(array):\n",
        "  for i in array:\n",
        "    print(i)"
      ],
      "metadata": {
        "id": "hpE_NcTQOQe_"
      },
      "execution_count": 12,
      "outputs": []
    },
    {
      "cell_type": "code",
      "source": [
        "traverseArray(arr1)"
      ],
      "metadata": {
        "colab": {
          "base_uri": "https://localhost:8080/"
        },
        "id": "8HmD_4mbPRvK",
        "outputId": "ad571bea-1f74-4800-9102-871399240bef"
      },
      "execution_count": 13,
      "outputs": [
        {
          "output_type": "stream",
          "name": "stdout",
          "text": [
            "0\n",
            "1\n",
            "2\n",
            "3\n",
            "4\n",
            "5\n",
            "6\n",
            "7\n"
          ]
        }
      ]
    },
    {
      "cell_type": "code",
      "source": [
        "# deleting an element from the array\n",
        "arr1.remove(1)"
      ],
      "metadata": {
        "id": "0Mq51bw8Q2bk"
      },
      "execution_count": 14,
      "outputs": []
    },
    {
      "cell_type": "code",
      "source": [
        "arr1"
      ],
      "metadata": {
        "colab": {
          "base_uri": "https://localhost:8080/"
        },
        "id": "YvtgEI5dTSYI",
        "outputId": "fdd3cd47-d52b-4887-ff72-102f069dbb56"
      },
      "execution_count": 15,
      "outputs": [
        {
          "output_type": "execute_result",
          "data": {
            "text/plain": [
              "array('i', [0, 2, 3, 4, 5, 6, 7])"
            ]
          },
          "metadata": {},
          "execution_count": 15
        }
      ]
    },
    {
      "cell_type": "code",
      "source": [
        ""
      ],
      "metadata": {
        "id": "7QUKXZe8Vg5R"
      },
      "execution_count": 15,
      "outputs": []
    },
    {
      "cell_type": "code",
      "source": [
        ""
      ],
      "metadata": {
        "id": "40G4D2IAVg2V"
      },
      "execution_count": 15,
      "outputs": []
    },
    {
      "cell_type": "code",
      "source": [
        ""
      ],
      "metadata": {
        "id": "Rihfi2CwVgxQ"
      },
      "execution_count": 15,
      "outputs": []
    },
    {
      "cell_type": "code",
      "source": [
        ""
      ],
      "metadata": {
        "id": "11H4-2TyVgu4"
      },
      "execution_count": 15,
      "outputs": []
    },
    {
      "cell_type": "code",
      "source": [
        "my_array = array('i',[1,2,3,4,5])"
      ],
      "metadata": {
        "id": "i1Sp002RTTbM"
      },
      "execution_count": 16,
      "outputs": []
    },
    {
      "cell_type": "code",
      "source": [
        "my_array"
      ],
      "metadata": {
        "colab": {
          "base_uri": "https://localhost:8080/"
        },
        "id": "K3ZRX7VCUvgB",
        "outputId": "7eee3c39-c6ee-45a6-ff4b-db94039c3c64"
      },
      "execution_count": 17,
      "outputs": [
        {
          "output_type": "execute_result",
          "data": {
            "text/plain": [
              "array('i', [1, 2, 3, 4, 5])"
            ]
          },
          "metadata": {},
          "execution_count": 17
        }
      ]
    },
    {
      "cell_type": "code",
      "source": [
        "# we can add an element to the array at the end using append method\n",
        "my_array.append(6)"
      ],
      "metadata": {
        "id": "vYZp8wBFUxQC"
      },
      "execution_count": 18,
      "outputs": []
    },
    {
      "cell_type": "code",
      "source": [
        "# we can insert an element at the desired location in the array using the insert method\n",
        "my_array.insert(0,11)"
      ],
      "metadata": {
        "id": "zhBWajSrVPGk"
      },
      "execution_count": 19,
      "outputs": []
    },
    {
      "cell_type": "code",
      "source": [
        "my_array"
      ],
      "metadata": {
        "colab": {
          "base_uri": "https://localhost:8080/"
        },
        "id": "_UaZeAwJVatF",
        "outputId": "89bed87c-4219-4b26-8d1e-b55dcedfa418"
      },
      "execution_count": 20,
      "outputs": [
        {
          "output_type": "execute_result",
          "data": {
            "text/plain": [
              "array('i', [11, 1, 2, 3, 4, 5, 6])"
            ]
          },
          "metadata": {},
          "execution_count": 20
        }
      ]
    },
    {
      "cell_type": "code",
      "source": [
        "my_array.insert(3,11)"
      ],
      "metadata": {
        "id": "dLm8WwDGVcJa"
      },
      "execution_count": 21,
      "outputs": []
    },
    {
      "cell_type": "code",
      "source": [
        "my_array"
      ],
      "metadata": {
        "colab": {
          "base_uri": "https://localhost:8080/"
        },
        "id": "cvPnyM0RVmno",
        "outputId": "e37f0f71-5f00-4d84-c54a-0416b2e6c7dc"
      },
      "execution_count": 22,
      "outputs": [
        {
          "output_type": "execute_result",
          "data": {
            "text/plain": [
              "array('i', [11, 1, 2, 11, 3, 4, 5, 6])"
            ]
          },
          "metadata": {},
          "execution_count": 22
        }
      ]
    },
    {
      "cell_type": "code",
      "source": [
        "# we can use the extend method to extend the array with another array\n",
        "my_array1 = array('i',[10,11,12])"
      ],
      "metadata": {
        "id": "gZjelGtVVnPE"
      },
      "execution_count": 23,
      "outputs": []
    },
    {
      "cell_type": "code",
      "source": [
        "my_array.extend(my_array1)"
      ],
      "metadata": {
        "id": "BetHt3niV0DE"
      },
      "execution_count": 24,
      "outputs": []
    },
    {
      "cell_type": "code",
      "source": [
        "my_array"
      ],
      "metadata": {
        "colab": {
          "base_uri": "https://localhost:8080/"
        },
        "id": "uCxUoc7wV3uG",
        "outputId": "722bac0c-d15e-435f-e33c-695c2ee74548"
      },
      "execution_count": 25,
      "outputs": [
        {
          "output_type": "execute_result",
          "data": {
            "text/plain": [
              "array('i', [11, 1, 2, 11, 3, 4, 5, 6, 10, 11, 12])"
            ]
          },
          "metadata": {},
          "execution_count": 25
        }
      ]
    },
    {
      "cell_type": "code",
      "source": [
        "# Add items from list datatype into array using fromlist() method\n",
        "templist = [20,21,22]"
      ],
      "metadata": {
        "id": "mcDvo1wGV4RF"
      },
      "execution_count": 26,
      "outputs": []
    },
    {
      "cell_type": "code",
      "source": [
        "my_array.fromlist(templist)"
      ],
      "metadata": {
        "id": "QCBV_R01WJ-p"
      },
      "execution_count": 27,
      "outputs": []
    },
    {
      "cell_type": "code",
      "source": [
        "my_array"
      ],
      "metadata": {
        "colab": {
          "base_uri": "https://localhost:8080/"
        },
        "id": "_EXVStzaWNsV",
        "outputId": "6a02b995-f0d0-43cc-b9d0-279512726084"
      },
      "execution_count": 28,
      "outputs": [
        {
          "output_type": "execute_result",
          "data": {
            "text/plain": [
              "array('i', [11, 1, 2, 11, 3, 4, 5, 6, 10, 11, 12, 20, 21, 22])"
            ]
          },
          "metadata": {},
          "execution_count": 28
        }
      ]
    },
    {
      "cell_type": "code",
      "source": [
        "# remove an array element using remove method\n",
        "my_array.remove(22)"
      ],
      "metadata": {
        "id": "yviCoRnnWRKs"
      },
      "execution_count": 29,
      "outputs": []
    },
    {
      "cell_type": "code",
      "source": [
        "my_array"
      ],
      "metadata": {
        "colab": {
          "base_uri": "https://localhost:8080/"
        },
        "id": "v0yI2l51WgQJ",
        "outputId": "df986b9d-08ce-476d-fd02-2dddfa11f1d2"
      },
      "execution_count": 30,
      "outputs": [
        {
          "output_type": "execute_result",
          "data": {
            "text/plain": [
              "array('i', [11, 1, 2, 11, 3, 4, 5, 6, 10, 11, 12, 20, 21])"
            ]
          },
          "metadata": {},
          "execution_count": 30
        }
      ]
    },
    {
      "cell_type": "code",
      "source": [
        "my_array.remove(11)"
      ],
      "metadata": {
        "id": "HQS0TJrzWhTt"
      },
      "execution_count": 31,
      "outputs": []
    },
    {
      "cell_type": "code",
      "source": [
        "my_array"
      ],
      "metadata": {
        "colab": {
          "base_uri": "https://localhost:8080/"
        },
        "id": "ZiMz8r8pWmsS",
        "outputId": "fe8d1a5e-8c8e-4c98-bf12-af73224795c5"
      },
      "execution_count": 32,
      "outputs": [
        {
          "output_type": "execute_result",
          "data": {
            "text/plain": [
              "array('i', [1, 2, 11, 3, 4, 5, 6, 10, 11, 12, 20, 21])"
            ]
          },
          "metadata": {},
          "execution_count": 32
        }
      ]
    },
    {
      "cell_type": "code",
      "source": [
        "# remove last element of the array using pop method\n",
        "my_array.pop()"
      ],
      "metadata": {
        "colab": {
          "base_uri": "https://localhost:8080/"
        },
        "id": "8gx5B-bMWnap",
        "outputId": "995e89c1-552e-4879-b16f-f17a07d5f8e8"
      },
      "execution_count": 33,
      "outputs": [
        {
          "output_type": "execute_result",
          "data": {
            "text/plain": [
              "21"
            ]
          },
          "metadata": {},
          "execution_count": 33
        }
      ]
    },
    {
      "cell_type": "code",
      "source": [
        "my_array"
      ],
      "metadata": {
        "colab": {
          "base_uri": "https://localhost:8080/"
        },
        "id": "cBmU1M0bWvtw",
        "outputId": "51f83d9e-ccb0-414a-8162-600f054bff54"
      },
      "execution_count": 34,
      "outputs": [
        {
          "output_type": "execute_result",
          "data": {
            "text/plain": [
              "array('i', [1, 2, 11, 3, 4, 5, 6, 10, 11, 12, 20])"
            ]
          },
          "metadata": {},
          "execution_count": 34
        }
      ]
    },
    {
      "cell_type": "code",
      "source": [
        "# Find the index of an element using the index method\n",
        "my_array.index(12)"
      ],
      "metadata": {
        "colab": {
          "base_uri": "https://localhost:8080/"
        },
        "id": "UDaci3CcWwtx",
        "outputId": "4428f1e3-9a85-4b6e-b057-8ff46e4171d0"
      },
      "execution_count": 35,
      "outputs": [
        {
          "output_type": "execute_result",
          "data": {
            "text/plain": [
              "9"
            ]
          },
          "metadata": {},
          "execution_count": 35
        }
      ]
    },
    {
      "cell_type": "code",
      "source": [
        "# Reverse an array using reverse method\n",
        "my_array.reverse()"
      ],
      "metadata": {
        "id": "TRobWsuIW-VF"
      },
      "execution_count": 36,
      "outputs": []
    },
    {
      "cell_type": "code",
      "source": [
        "my_array"
      ],
      "metadata": {
        "colab": {
          "base_uri": "https://localhost:8080/"
        },
        "id": "D30FHiHuXImV",
        "outputId": "330997cd-29b7-448f-c867-533d7c455add"
      },
      "execution_count": 37,
      "outputs": [
        {
          "output_type": "execute_result",
          "data": {
            "text/plain": [
              "array('i', [20, 12, 11, 10, 6, 5, 4, 3, 11, 2, 1])"
            ]
          },
          "metadata": {},
          "execution_count": 37
        }
      ]
    },
    {
      "cell_type": "code",
      "source": [
        "# Get array buffer information through buffer_info() method - Memory location and number of elements\n",
        "my_array.buffer_info()"
      ],
      "metadata": {
        "colab": {
          "base_uri": "https://localhost:8080/"
        },
        "id": "gSo9tsYTXKr5",
        "outputId": "a3745774-7850-49e2-de1c-7bf98a22008a"
      },
      "execution_count": 38,
      "outputs": [
        {
          "output_type": "execute_result",
          "data": {
            "text/plain": [
              "(140267478560896, 11)"
            ]
          },
          "metadata": {},
          "execution_count": 38
        }
      ]
    },
    {
      "cell_type": "code",
      "source": [
        "# Check the number of occurences of an element in the array using count method\n",
        "my_array.count(11)"
      ],
      "metadata": {
        "colab": {
          "base_uri": "https://localhost:8080/"
        },
        "id": "m9DFVKNwXZNu",
        "outputId": "88081380-d204-492f-e544-307c1685001a"
      },
      "execution_count": 39,
      "outputs": [
        {
          "output_type": "execute_result",
          "data": {
            "text/plain": [
              "2"
            ]
          },
          "metadata": {},
          "execution_count": 39
        }
      ]
    },
    {
      "cell_type": "code",
      "source": [
        "# Convert the array to string using tostring() method\n",
        "tmp = my_array.tostring()"
      ],
      "metadata": {
        "id": "pCIQgDwiXoT2"
      },
      "execution_count": 40,
      "outputs": []
    },
    {
      "cell_type": "code",
      "source": [
        "tmp"
      ],
      "metadata": {
        "colab": {
          "base_uri": "https://localhost:8080/"
        },
        "id": "411Y1O-RYQxG",
        "outputId": "b6b8828e-d259-4938-b2b0-22df5c6c523e"
      },
      "execution_count": 41,
      "outputs": [
        {
          "output_type": "execute_result",
          "data": {
            "text/plain": [
              "b'\\x14\\x00\\x00\\x00\\x0c\\x00\\x00\\x00\\x0b\\x00\\x00\\x00\\n\\x00\\x00\\x00\\x06\\x00\\x00\\x00\\x05\\x00\\x00\\x00\\x04\\x00\\x00\\x00\\x03\\x00\\x00\\x00\\x0b\\x00\\x00\\x00\\x02\\x00\\x00\\x00\\x01\\x00\\x00\\x00'"
            ]
          },
          "metadata": {},
          "execution_count": 41
        }
      ]
    },
    {
      "cell_type": "code",
      "source": [
        "my_array"
      ],
      "metadata": {
        "colab": {
          "base_uri": "https://localhost:8080/"
        },
        "id": "OoBw7SrzXx69",
        "outputId": "dc9b72ee-3320-4843-f6ad-03bee912c9ac"
      },
      "execution_count": 42,
      "outputs": [
        {
          "output_type": "execute_result",
          "data": {
            "text/plain": [
              "array('i', [20, 12, 11, 10, 6, 5, 4, 3, 11, 2, 1])"
            ]
          },
          "metadata": {},
          "execution_count": 42
        }
      ]
    },
    {
      "cell_type": "code",
      "source": [
        "# these strange characters are not wrong output. We can get back our integer array by using the fromstring() method\n",
        "ints = array('i')\n",
        "ints.fromstring(tmp)"
      ],
      "metadata": {
        "id": "wXNDy__jX90N"
      },
      "execution_count": 43,
      "outputs": []
    },
    {
      "cell_type": "code",
      "source": [
        "ints"
      ],
      "metadata": {
        "colab": {
          "base_uri": "https://localhost:8080/"
        },
        "id": "XaUPY8xrYYbs",
        "outputId": "762330ef-b8d0-41e3-dfc8-36ef935725ea"
      },
      "execution_count": 44,
      "outputs": [
        {
          "output_type": "execute_result",
          "data": {
            "text/plain": [
              "array('i', [20, 12, 11, 10, 6, 5, 4, 3, 11, 2, 1])"
            ]
          },
          "metadata": {},
          "execution_count": 44
        }
      ]
    },
    {
      "cell_type": "code",
      "source": [
        "# convert python array to list using tolist() method\n",
        "my_array.tolist()"
      ],
      "metadata": {
        "colab": {
          "base_uri": "https://localhost:8080/"
        },
        "id": "dPoW7Op1Yjal",
        "outputId": "5aead6ad-da2f-4d7b-bd37-0bb998232df3"
      },
      "execution_count": 45,
      "outputs": [
        {
          "output_type": "execute_result",
          "data": {
            "text/plain": [
              "[20, 12, 11, 10, 6, 5, 4, 3, 11, 2, 1]"
            ]
          },
          "metadata": {},
          "execution_count": 45
        }
      ]
    },
    {
      "cell_type": "code",
      "source": [
        "# slice elements of an array\n",
        "my_array[1:4]"
      ],
      "metadata": {
        "colab": {
          "base_uri": "https://localhost:8080/"
        },
        "id": "06cFRyqbYv2C",
        "outputId": "2f05d6f3-7a7a-4428-c4ba-51d2e232ab5f"
      },
      "execution_count": 46,
      "outputs": [
        {
          "output_type": "execute_result",
          "data": {
            "text/plain": [
              "array('i', [12, 11, 10])"
            ]
          },
          "metadata": {},
          "execution_count": 46
        }
      ]
    },
    {
      "cell_type": "markdown",
      "source": [
        "### Two dimensional arrays"
      ],
      "metadata": {
        "id": "82tyeU9zFMfw"
      }
    },
    {
      "cell_type": "code",
      "source": [
        "# two d or more arrays are better used in numpy modules\n",
        "import numpy as np"
      ],
      "metadata": {
        "id": "FwZiCzwOZCdN"
      },
      "execution_count": 47,
      "outputs": []
    },
    {
      "cell_type": "code",
      "source": [
        "twodarray = np.array([[11,15,10,6],[10,14,11,5],[12,17,12,8],[15,18,14,9]])"
      ],
      "metadata": {
        "id": "5k4CEBM6I20y"
      },
      "execution_count": 48,
      "outputs": []
    },
    {
      "cell_type": "code",
      "source": [
        "print(twodarray)"
      ],
      "metadata": {
        "colab": {
          "base_uri": "https://localhost:8080/"
        },
        "id": "nSeR00FiJI6a",
        "outputId": "ac65d137-d6c2-4a4a-a6fd-0b81900f3f89"
      },
      "execution_count": 49,
      "outputs": [
        {
          "output_type": "stream",
          "name": "stdout",
          "text": [
            "[[11 15 10  6]\n",
            " [10 14 11  5]\n",
            " [12 17 12  8]\n",
            " [15 18 14  9]]\n"
          ]
        }
      ]
    },
    {
      "cell_type": "code",
      "source": [
        "np.insert(twodarray, 0,[[1,2,3,4]],axis = 1)"
      ],
      "metadata": {
        "colab": {
          "base_uri": "https://localhost:8080/"
        },
        "id": "BzVEqGXQJQOL",
        "outputId": "f5f27189-e609-42c2-d58d-a71799fbcc6d"
      },
      "execution_count": 50,
      "outputs": [
        {
          "output_type": "execute_result",
          "data": {
            "text/plain": [
              "array([[ 1, 11, 15, 10,  6],\n",
              "       [ 2, 10, 14, 11,  5],\n",
              "       [ 3, 12, 17, 12,  8],\n",
              "       [ 4, 15, 18, 14,  9]])"
            ]
          },
          "metadata": {},
          "execution_count": 50
        }
      ]
    },
    {
      "cell_type": "code",
      "source": [
        "np.insert(twodarray, 0,[[1,2,3,4]],axis = 0)"
      ],
      "metadata": {
        "colab": {
          "base_uri": "https://localhost:8080/"
        },
        "id": "eWs4HmrKLLSs",
        "outputId": "fb901d24-dde5-45ad-afd7-1df699218155"
      },
      "execution_count": 51,
      "outputs": [
        {
          "output_type": "execute_result",
          "data": {
            "text/plain": [
              "array([[ 1,  2,  3,  4],\n",
              "       [11, 15, 10,  6],\n",
              "       [10, 14, 11,  5],\n",
              "       [12, 17, 12,  8],\n",
              "       [15, 18, 14,  9]])"
            ]
          },
          "metadata": {},
          "execution_count": 51
        }
      ]
    },
    {
      "cell_type": "code",
      "source": [
        "np.append(twodarray,[[1,2,3,4]],axis =0)"
      ],
      "metadata": {
        "colab": {
          "base_uri": "https://localhost:8080/"
        },
        "id": "xza0WgaILN0T",
        "outputId": "a91456d3-5c3a-4c25-ccab-bbe971103234"
      },
      "execution_count": 52,
      "outputs": [
        {
          "output_type": "execute_result",
          "data": {
            "text/plain": [
              "array([[11, 15, 10,  6],\n",
              "       [10, 14, 11,  5],\n",
              "       [12, 17, 12,  8],\n",
              "       [15, 18, 14,  9],\n",
              "       [ 1,  2,  3,  4]])"
            ]
          },
          "metadata": {},
          "execution_count": 52
        }
      ]
    },
    {
      "cell_type": "code",
      "source": [
        "for i in twodarray:\n",
        "  for j in i:\n",
        "    print(j)"
      ],
      "metadata": {
        "colab": {
          "base_uri": "https://localhost:8080/"
        },
        "id": "lcDAEJ76L1LQ",
        "outputId": "64be1fe3-e0ca-491f-fb97-168d3da83b82"
      },
      "execution_count": 53,
      "outputs": [
        {
          "output_type": "stream",
          "name": "stdout",
          "text": [
            "11\n",
            "15\n",
            "10\n",
            "6\n",
            "10\n",
            "14\n",
            "11\n",
            "5\n",
            "12\n",
            "17\n",
            "12\n",
            "8\n",
            "15\n",
            "18\n",
            "14\n",
            "9\n"
          ]
        }
      ]
    },
    {
      "cell_type": "code",
      "source": [
        "twodarray"
      ],
      "metadata": {
        "colab": {
          "base_uri": "https://localhost:8080/"
        },
        "id": "EzGLkmjJPCxi",
        "outputId": "d5736634-f54e-4993-d2ba-27111b59f5e4"
      },
      "execution_count": 54,
      "outputs": [
        {
          "output_type": "execute_result",
          "data": {
            "text/plain": [
              "array([[11, 15, 10,  6],\n",
              "       [10, 14, 11,  5],\n",
              "       [12, 17, 12,  8],\n",
              "       [15, 18, 14,  9]])"
            ]
          },
          "metadata": {},
          "execution_count": 54
        }
      ]
    },
    {
      "cell_type": "code",
      "source": [
        "np.delete(twodarray,1,axis = 1)"
      ],
      "metadata": {
        "colab": {
          "base_uri": "https://localhost:8080/"
        },
        "id": "gTfDkocEM6M7",
        "outputId": "7d4e2b61-0f73-47e1-cb22-e458a264ed95"
      },
      "execution_count": 55,
      "outputs": [
        {
          "output_type": "execute_result",
          "data": {
            "text/plain": [
              "array([[11, 10,  6],\n",
              "       [10, 11,  5],\n",
              "       [12, 12,  8],\n",
              "       [15, 14,  9]])"
            ]
          },
          "metadata": {},
          "execution_count": 55
        }
      ]
    },
    {
      "cell_type": "markdown",
      "source": [
        "#**Linked Lists:**"
      ],
      "metadata": {
        "id": "6k3X5vDuNomX"
      }
    },
    {
      "cell_type": "markdown",
      "source": [
        "**Creating a singly linked list:**\n",
        "1. Create the head and tail node and put the reference(link) in both of them as null.\n",
        "2. Create a blank node and assign the desired value to it and reference it to null.\n",
        "3. Link Head and tail with this node since this is the only node in our linked list and this is the head as well as tail node for now.\n"
      ],
      "metadata": {
        "id": "8HzeY-C_N0Hj"
      }
    },
    {
      "cell_type": "code",
      "source": [
        "# Creating a class called SLinkedList that stores two informations - head node and tail node of the linked list\n",
        "class SLinkedList:\n",
        "  def __init__(self):\n",
        "    self.head = None\n",
        "    self.tail = None\n",
        "  \n",
        "  # Creating a method to print the linked list\n",
        "  def __iter__(self):\n",
        "    node = self.head\n",
        "    while node:\n",
        "      yield node\n",
        "      node = node.next\n",
        "  \n",
        "  # Creating a method to insert an element in the singly linked list\n",
        "  def insertSLL(self,value,location):\n",
        "    newNode = Node(value)\n",
        "    if self.head is None:\n",
        "      self.head = newNode\n",
        "      self.tail = newNode\n",
        "    else:\n",
        "      if location == 0:\n",
        "        newNode.next = self.head\n",
        "        self.head = newNode\n",
        "      else:\n",
        "        if location == -1:\n",
        "          newNode.next = None\n",
        "          self.tail.next = newNode\n",
        "          self.tail = newNode\n",
        "        else:\n",
        "          tempNode = self.head\n",
        "          index = 0\n",
        "          while index<location-1:\n",
        "            tempNode = tempNode.next\n",
        "          nextNode = tempNode.next\n",
        "          tempNode.next = newNode\n",
        "          newNode.next = nextNode\n",
        "          if tempNode == self.tail:\n",
        "            self.tail = newNode\n",
        "\n",
        "  # Traversing a singly linked list\n",
        "  def traverseSLL(self):\n",
        "    if self.head is None:\n",
        "      print('The Single Linked list is empty or does not exist')\n",
        "    else:\n",
        "      node = self.head\n",
        "      while node is not None:\n",
        "        print(node.value)\n",
        "        node = node.next\n",
        "  \n",
        "  # Searching for a value in a singly linked list\n",
        "  def searchSLL(self, nodeValue):\n",
        "    if self.head is None:\n",
        "      return 'The singly linked list does not exist'\n",
        "    else:\n",
        "      node = self.head\n",
        "      while node is not None:\n",
        "        if nodeValue == node.value:\n",
        "          return node.value\n",
        "        node = node.next\n",
        "      return 'The value does not exist in the list'\n",
        "\n",
        "  # Deleting a node in a single linked list\n",
        "  def deleteSLL(self,location):\n",
        "    if self.head is None:\n",
        "      return 'The Singly linked list does not exist'\n",
        "    else:\n",
        "      if location == 0:\n",
        "        if self.head == self.tail:\n",
        "          self.head = None\n",
        "          self.tail = None\n",
        "        else:\n",
        "          self.head = self.head.next\n",
        "      else:\n",
        "        if location == -1:\n",
        "          if self.head == self.tail:\n",
        "            self.head = None\n",
        "            self.tail = None\n",
        "          else:\n",
        "            node = self.head\n",
        "            while node is not None:\n",
        "              if node.next == self.tail:\n",
        "                break\n",
        "              node = node.next\n",
        "            node.next = None\n",
        "            self.tail = node\n",
        "        else:\n",
        "          node = self.head\n",
        "          index = 0\n",
        "          while index<location-1:\n",
        "            if node is None:\n",
        "              return 'Index out of range'\n",
        "            else:\n",
        "              node = node.next\n",
        "              index += 1\n",
        "          nextNode = node.next\n",
        "          node.next = nextNode.next\n",
        "  # Deleting the entire singly linked list\n",
        "  def deleteEntireSLL(self):\n",
        "    if self.head is None:\n",
        "      print('The list does not exist')\n",
        "    else:\n",
        "      self.head = None\n",
        "      self.tail = None"
      ],
      "metadata": {
        "id": "DhTXCwqdPA-O"
      },
      "execution_count": 56,
      "outputs": []
    },
    {
      "cell_type": "code",
      "source": [
        "# Creating a class called node that contains the attributes value and reference to next node\n",
        "class Node:\n",
        "  def __init__(self, value = None):\n",
        "    self.value = value\n",
        "    self.next = None"
      ],
      "metadata": {
        "id": "3qPHsFjbO7Ra"
      },
      "execution_count": 57,
      "outputs": []
    },
    {
      "cell_type": "code",
      "source": [
        "# Initiating a singly linked list\n",
        "singlyLL = SLinkedList()"
      ],
      "metadata": {
        "id": "o-UgDLkqPIx5"
      },
      "execution_count": 58,
      "outputs": []
    },
    {
      "cell_type": "code",
      "source": [
        "# Creating two nodes with values\n",
        "node1 = Node(254)\n",
        "node2 = Node(8792)"
      ],
      "metadata": {
        "id": "-yuKLLIRPOaY"
      },
      "execution_count": 59,
      "outputs": []
    },
    {
      "cell_type": "code",
      "source": [
        "# Connecting the nodes to the Linked list\n",
        "singlyLL.head = node1\n",
        "singlyLL.head.next = node2\n",
        "singlyLL.tail = node2"
      ],
      "metadata": {
        "id": "yKQn7OS-PVxY"
      },
      "execution_count": 60,
      "outputs": []
    },
    {
      "cell_type": "code",
      "source": [
        "singlyLL = SLinkedList()"
      ],
      "metadata": {
        "id": "4UydsLbNpgWy"
      },
      "execution_count": 61,
      "outputs": []
    },
    {
      "cell_type": "code",
      "source": [
        "singlyLL.insertSLL(132,1)"
      ],
      "metadata": {
        "id": "s7NoIgf7tuQX"
      },
      "execution_count": 62,
      "outputs": []
    },
    {
      "cell_type": "code",
      "source": [
        "print([node.value for node in singlyLL])"
      ],
      "metadata": {
        "colab": {
          "base_uri": "https://localhost:8080/"
        },
        "id": "S64evPeJt1n_",
        "outputId": "f42119f2-98b6-4d4f-c5a7-c0fd598049c9"
      },
      "execution_count": 63,
      "outputs": [
        {
          "output_type": "stream",
          "name": "stdout",
          "text": [
            "[132]\n"
          ]
        }
      ]
    },
    {
      "cell_type": "code",
      "source": [
        "singlyLL.insertSLL(1432,1)\n",
        "singlyLL.insertSLL(32,1)\n",
        "singlyLL.insertSLL(6,1)\n",
        "singlyLL.insertSLL(875,1)\n",
        "singlyLL.insertSLL('s',1)\n",
        "singlyLL.insertSLL('gsggs',1)"
      ],
      "metadata": {
        "id": "mvzYEqEMt8Cu"
      },
      "execution_count": 64,
      "outputs": []
    },
    {
      "cell_type": "code",
      "source": [
        "print([node.value for node in singlyLL])"
      ],
      "metadata": {
        "colab": {
          "base_uri": "https://localhost:8080/"
        },
        "id": "KlrbEd-LuSwH",
        "outputId": "0524fb24-7bb8-42f5-8564-506801be30eb"
      },
      "execution_count": 65,
      "outputs": [
        {
          "output_type": "stream",
          "name": "stdout",
          "text": [
            "[132, 'gsggs', 's', 875, 6, 32, 1432]\n"
          ]
        }
      ]
    },
    {
      "cell_type": "code",
      "source": [
        "# Traversing a singly linked list\n",
        "singlyLL.traverseSLL()"
      ],
      "metadata": {
        "colab": {
          "base_uri": "https://localhost:8080/"
        },
        "id": "1gGV800FuVru",
        "outputId": "0d036bdc-ec36-468a-c6d7-4a3f05c13f9a"
      },
      "execution_count": 66,
      "outputs": [
        {
          "output_type": "stream",
          "name": "stdout",
          "text": [
            "132\n",
            "gsggs\n",
            "s\n",
            "875\n",
            "6\n",
            "32\n",
            "1432\n"
          ]
        }
      ]
    },
    {
      "cell_type": "code",
      "source": [
        "# Search for a value in singly linked list\n",
        "singlyLL.searchSLL(875)"
      ],
      "metadata": {
        "colab": {
          "base_uri": "https://localhost:8080/"
        },
        "id": "rv4X2G7zwBDG",
        "outputId": "e1fb1320-fc96-43da-cb45-42b274bcaf6c"
      },
      "execution_count": 67,
      "outputs": [
        {
          "output_type": "execute_result",
          "data": {
            "text/plain": [
              "875"
            ]
          },
          "metadata": {},
          "execution_count": 67
        }
      ]
    },
    {
      "cell_type": "code",
      "source": [
        "singlyLL.searchSLL('fsdsdf')"
      ],
      "metadata": {
        "colab": {
          "base_uri": "https://localhost:8080/",
          "height": 35
        },
        "id": "o39I5kM3xksh",
        "outputId": "9a2e9980-0e88-4078-b6bd-4196517b3f68"
      },
      "execution_count": 68,
      "outputs": [
        {
          "output_type": "execute_result",
          "data": {
            "text/plain": [
              "'The value does not exist in the list'"
            ],
            "application/vnd.google.colaboratory.intrinsic+json": {
              "type": "string"
            }
          },
          "metadata": {},
          "execution_count": 68
        }
      ]
    },
    {
      "cell_type": "code",
      "source": [
        "singlyLL.searchSLL(1432)"
      ],
      "metadata": {
        "colab": {
          "base_uri": "https://localhost:8080/"
        },
        "id": "A1R7GbQoxqh0",
        "outputId": "6db726ad-0ab1-4159-9989-9b5dfd7a5dbf"
      },
      "execution_count": 69,
      "outputs": [
        {
          "output_type": "execute_result",
          "data": {
            "text/plain": [
              "1432"
            ]
          },
          "metadata": {},
          "execution_count": 69
        }
      ]
    },
    {
      "cell_type": "code",
      "source": [
        "singlyLL.traverseSLL()"
      ],
      "metadata": {
        "colab": {
          "base_uri": "https://localhost:8080/"
        },
        "id": "CVPWyYWeyYCs",
        "outputId": "38e8b004-6121-429d-eeb9-9a1d9df8f46d"
      },
      "execution_count": 70,
      "outputs": [
        {
          "output_type": "stream",
          "name": "stdout",
          "text": [
            "132\n",
            "gsggs\n",
            "s\n",
            "875\n",
            "6\n",
            "32\n",
            "1432\n"
          ]
        }
      ]
    },
    {
      "cell_type": "code",
      "source": [
        "singlyLL.deleteSLL(0)"
      ],
      "metadata": {
        "id": "P1fX0Tak6jXI"
      },
      "execution_count": 71,
      "outputs": []
    },
    {
      "cell_type": "code",
      "source": [
        "singlyLL.traverseSLL()"
      ],
      "metadata": {
        "colab": {
          "base_uri": "https://localhost:8080/"
        },
        "id": "NzNVHMrb6l3s",
        "outputId": "55fc4219-c1a3-469e-d5a8-c8e0687c6096"
      },
      "execution_count": 72,
      "outputs": [
        {
          "output_type": "stream",
          "name": "stdout",
          "text": [
            "gsggs\n",
            "s\n",
            "875\n",
            "6\n",
            "32\n",
            "1432\n"
          ]
        }
      ]
    },
    {
      "cell_type": "code",
      "source": [
        "singlyLL.deleteSLL(3)"
      ],
      "metadata": {
        "id": "DrVX_JUr6oJs"
      },
      "execution_count": 73,
      "outputs": []
    },
    {
      "cell_type": "code",
      "source": [
        "singlyLL.traverseSLL()"
      ],
      "metadata": {
        "colab": {
          "base_uri": "https://localhost:8080/"
        },
        "id": "2N7KGBC46rXg",
        "outputId": "2dd729cd-5103-498c-866f-00ac076c18b1"
      },
      "execution_count": 74,
      "outputs": [
        {
          "output_type": "stream",
          "name": "stdout",
          "text": [
            "gsggs\n",
            "s\n",
            "875\n",
            "32\n",
            "1432\n"
          ]
        }
      ]
    },
    {
      "cell_type": "code",
      "source": [
        "singlyLL.deleteSLL(45)"
      ],
      "metadata": {
        "colab": {
          "base_uri": "https://localhost:8080/",
          "height": 35
        },
        "id": "8-J5Faeq6yUn",
        "outputId": "52c76233-cb5c-4f4e-b04b-7ef316995656"
      },
      "execution_count": 75,
      "outputs": [
        {
          "output_type": "execute_result",
          "data": {
            "text/plain": [
              "'Index out of range'"
            ],
            "application/vnd.google.colaboratory.intrinsic+json": {
              "type": "string"
            }
          },
          "metadata": {},
          "execution_count": 75
        }
      ]
    },
    {
      "cell_type": "code",
      "source": [
        "singlyLL.deleteEntireSLL()"
      ],
      "metadata": {
        "id": "74lvQwli65-z"
      },
      "execution_count": 76,
      "outputs": []
    },
    {
      "cell_type": "code",
      "source": [
        "singlyLL.traverseSLL()"
      ],
      "metadata": {
        "colab": {
          "base_uri": "https://localhost:8080/"
        },
        "id": "FLibwf318v0M",
        "outputId": "9d1c23f5-b662-40fc-f5fd-23e53c771fc1"
      },
      "execution_count": 77,
      "outputs": [
        {
          "output_type": "stream",
          "name": "stdout",
          "text": [
            "The Single Linked list is empty or does not exist\n"
          ]
        }
      ]
    },
    {
      "cell_type": "markdown",
      "source": [
        "##  **Circular singly linked list:**"
      ],
      "metadata": {
        "id": "JoBUMzB4tsEN"
      }
    },
    {
      "cell_type": "code",
      "source": [
        "class CircularSinglyLinkedList:\n",
        "  def __init__(self):\n",
        "    self.head = None\n",
        "    self.tail = None\n",
        "  \n",
        "  def __iter__(self):\n",
        "    node = self.head\n",
        "    while node:\n",
        "      yield node\n",
        "      if node.next==self.head:\n",
        "        break\n",
        "      node = node.next\n",
        "  \n",
        "  # Creation of circular singly linked list\n",
        "  def createCSLL(self,nodeValue):\n",
        "    node = Node(nodeValue)\n",
        "    node.next = node\n",
        "    self.head = node\n",
        "    self.tail = node\n",
        "    return 'The circular singly linked list has been created'\n",
        "\n",
        "  # Insertion of a node in the circular linked list\n",
        "  def insertCSLL(self,value,location):\n",
        "    if self.head is None:\n",
        "      return 'The head reference is null'\n",
        "    else:\n",
        "      newNode = Node(value)\n",
        "      if location ==0:\n",
        "        newNode.next = self.head\n",
        "        self.head = newNode\n",
        "        self.tail.next = newNode\n",
        "      elif location == -1:\n",
        "        newNode.next = self.tail.next\n",
        "        self.tail.next = newNode\n",
        "        self.tail = newNode\n",
        "      else:\n",
        "        tempNode = self.head\n",
        "        index = 0\n",
        "        while index<location-1:\n",
        "          tempNode = tempNode.next\n",
        "          index+=1\n",
        "        nextNode = tempNode.next\n",
        "        tempNode.next = newNode\n",
        "        newNode.next = nextNode\n",
        "    return 'The node has been successfully inserted'\n",
        "  \n",
        "  # Traversing the circular linked list\n",
        "  def traverseCSLL(self):\n",
        "    if self.head is None:\n",
        "      print('The list is empty')\n",
        "    else:\n",
        "      node = self.head\n",
        "      while node != self.tail:\n",
        "        print(node.value)\n",
        "        node = node.next\n",
        "      print(self.tail.value)\n",
        "\n",
        "  # Searching for a given node on a circular singly linked list\n",
        "  def searchCSLL(self, value):\n",
        "    if self.head is None:\n",
        "      return 'The list is empty'\n",
        "    else:\n",
        "      node = self.head\n",
        "      while node:\n",
        "        if node.value == value:\n",
        "          return node.value\n",
        "        node = node.next\n",
        "        if node == self.tail.next:\n",
        "          break\n",
        "      return 'The value is not found in the list'\n",
        "\n",
        "  # deleting a given node at a given location in a circular singly linked list\n",
        "  def deleteNode(self,location):\n",
        "    if self.head is None:\n",
        "      return 'The list is empty'\n",
        "    elif location == 0:\n",
        "      if self.head.next == self.head:\n",
        "        self.head.next = None\n",
        "        self.head = None\n",
        "        self.tail = None\n",
        "      else:\n",
        "        self.head = self.head.next\n",
        "        self.tail.next = self.head\n",
        "    elif location == -1:\n",
        "      if self.head.next == self.head:\n",
        "        self.head.next = None\n",
        "        self.head = None\n",
        "        self.tail = None\n",
        "      else:\n",
        "        node = self.head\n",
        "        while node:\n",
        "          node = node.next\n",
        "          if node.next == self.tail:\n",
        "            break\n",
        "        node.next = self.head\n",
        "        self.tail = node\n",
        "    else:\n",
        "      node = self.head\n",
        "      index = 0\n",
        "      while index<location-1:\n",
        "        node = node.next\n",
        "        index += 1\n",
        "      delnode = node.next\n",
        "      node.next = delnode.next\n",
        "      delnode.next = None"
      ],
      "metadata": {
        "id": "PMw3fLft8yNG"
      },
      "execution_count": 106,
      "outputs": []
    },
    {
      "cell_type": "code",
      "source": [
        "csll = CircularSinglyLinkedList()"
      ],
      "metadata": {
        "id": "W1K5ioxpvg07"
      },
      "execution_count": 107,
      "outputs": []
    },
    {
      "cell_type": "code",
      "source": [
        "csll.createCSLL('ffs')"
      ],
      "metadata": {
        "colab": {
          "base_uri": "https://localhost:8080/",
          "height": 35
        },
        "id": "Ex4xOHcHwnqK",
        "outputId": "6a67bbeb-d150-4dec-e834-37a7d524ba12"
      },
      "execution_count": 108,
      "outputs": [
        {
          "output_type": "execute_result",
          "data": {
            "text/plain": [
              "'The circular singly linked list has been created'"
            ],
            "application/vnd.google.colaboratory.intrinsic+json": {
              "type": "string"
            }
          },
          "metadata": {},
          "execution_count": 108
        }
      ]
    },
    {
      "cell_type": "code",
      "source": [
        "csll.insertCSLL(42324,0)"
      ],
      "metadata": {
        "id": "5lOnsAluwvPE",
        "colab": {
          "base_uri": "https://localhost:8080/",
          "height": 35
        },
        "outputId": "95f40b1b-7fd7-4a86-b8ed-c536adbd983c"
      },
      "execution_count": 109,
      "outputs": [
        {
          "output_type": "execute_result",
          "data": {
            "text/plain": [
              "'The node has been successfully inserted'"
            ],
            "application/vnd.google.colaboratory.intrinsic+json": {
              "type": "string"
            }
          },
          "metadata": {},
          "execution_count": 109
        }
      ]
    },
    {
      "cell_type": "code",
      "source": [
        "csll.insertCSLL(345345,1)\n",
        "csll.insertCSLL('dfdsf',1)\n",
        "csll.insertCSLL('werw',0)\n",
        "csll.insertCSLL(35290,3)\n",
        "csll.insertCSLL(4236,1)\n",
        "csll.insertCSLL(3,0)\n",
        "csll.insertCSLL(7,5)\n",
        "csll.insertCSLL(423,2)"
      ],
      "metadata": {
        "colab": {
          "base_uri": "https://localhost:8080/",
          "height": 35
        },
        "id": "KKqR5usSw_dO",
        "outputId": "11daa7b0-7691-49b0-cee2-aa4d86c5efac"
      },
      "execution_count": 110,
      "outputs": [
        {
          "output_type": "execute_result",
          "data": {
            "text/plain": [
              "'The node has been successfully inserted'"
            ],
            "application/vnd.google.colaboratory.intrinsic+json": {
              "type": "string"
            }
          },
          "metadata": {},
          "execution_count": 110
        }
      ]
    },
    {
      "cell_type": "code",
      "source": [
        "print([node.value for node in csll])"
      ],
      "metadata": {
        "colab": {
          "base_uri": "https://localhost:8080/"
        },
        "id": "K2-vqeVHxXEm",
        "outputId": "3163e345-4a35-44ac-9efc-7a928cdc21cc"
      },
      "execution_count": 111,
      "outputs": [
        {
          "output_type": "stream",
          "name": "stdout",
          "text": [
            "[3, 'werw', 423, 4236, 42324, 'dfdsf', 7, 35290, 345345, 'ffs']\n"
          ]
        }
      ]
    },
    {
      "cell_type": "code",
      "source": [
        "csll.traverseCSLL()"
      ],
      "metadata": {
        "colab": {
          "base_uri": "https://localhost:8080/"
        },
        "id": "tFsGWgb3xe0m",
        "outputId": "f07dfa5e-5a41-406b-dc53-74707bbb1563"
      },
      "execution_count": 112,
      "outputs": [
        {
          "output_type": "stream",
          "name": "stdout",
          "text": [
            "3\n",
            "werw\n",
            "423\n",
            "4236\n",
            "42324\n",
            "dfdsf\n",
            "7\n",
            "35290\n",
            "345345\n",
            "ffs\n"
          ]
        }
      ]
    },
    {
      "cell_type": "code",
      "source": [
        "csll.searchCSLL(3)"
      ],
      "metadata": {
        "colab": {
          "base_uri": "https://localhost:8080/"
        },
        "id": "8ydQcUtly78G",
        "outputId": "a6832489-6611-4b6f-d472-9faf5592fe79"
      },
      "execution_count": 113,
      "outputs": [
        {
          "output_type": "execute_result",
          "data": {
            "text/plain": [
              "3"
            ]
          },
          "metadata": {},
          "execution_count": 113
        }
      ]
    },
    {
      "cell_type": "code",
      "source": [
        "csll.searchCSLL('dfdsf')"
      ],
      "metadata": {
        "colab": {
          "base_uri": "https://localhost:8080/",
          "height": 35
        },
        "id": "ySW5HqWZ0Toa",
        "outputId": "f35c94b2-3e5e-4a1d-9289-07afc7f74221"
      },
      "execution_count": 114,
      "outputs": [
        {
          "output_type": "execute_result",
          "data": {
            "text/plain": [
              "'dfdsf'"
            ],
            "application/vnd.google.colaboratory.intrinsic+json": {
              "type": "string"
            }
          },
          "metadata": {},
          "execution_count": 114
        }
      ]
    },
    {
      "cell_type": "code",
      "source": [
        "csll.searchCSLL('ffs')"
      ],
      "metadata": {
        "colab": {
          "base_uri": "https://localhost:8080/",
          "height": 35
        },
        "id": "zHEAQDNt0X1Z",
        "outputId": "3e93d227-9341-4eff-9af5-b878ede19fe2"
      },
      "execution_count": 115,
      "outputs": [
        {
          "output_type": "execute_result",
          "data": {
            "text/plain": [
              "'ffs'"
            ],
            "application/vnd.google.colaboratory.intrinsic+json": {
              "type": "string"
            }
          },
          "metadata": {},
          "execution_count": 115
        }
      ]
    },
    {
      "cell_type": "code",
      "source": [
        "csll.searchCSLL('sfhshfshfdfhds')"
      ],
      "metadata": {
        "colab": {
          "base_uri": "https://localhost:8080/",
          "height": 35
        },
        "id": "2RQHiGB-0at-",
        "outputId": "be29aa23-7c56-478f-f97d-ec33e9b80f06"
      },
      "execution_count": 116,
      "outputs": [
        {
          "output_type": "execute_result",
          "data": {
            "text/plain": [
              "'The value is not found in the list'"
            ],
            "application/vnd.google.colaboratory.intrinsic+json": {
              "type": "string"
            }
          },
          "metadata": {},
          "execution_count": 116
        }
      ]
    },
    {
      "cell_type": "code",
      "source": [
        "[node.value for node in csll]"
      ],
      "metadata": {
        "colab": {
          "base_uri": "https://localhost:8080/"
        },
        "id": "JFpV-2ot6dXc",
        "outputId": "1ffc2328-2857-4689-cbda-657d612b11c6"
      },
      "execution_count": 117,
      "outputs": [
        {
          "output_type": "execute_result",
          "data": {
            "text/plain": [
              "[3, 'werw', 423, 4236, 42324, 'dfdsf', 7, 35290, 345345, 'ffs']"
            ]
          },
          "metadata": {},
          "execution_count": 117
        }
      ]
    },
    {
      "cell_type": "code",
      "source": [
        "csll.deleteNode(0)"
      ],
      "metadata": {
        "id": "D5g-NbvQ0ef2"
      },
      "execution_count": 118,
      "outputs": []
    },
    {
      "cell_type": "code",
      "source": [
        "[node.value for node in csll]"
      ],
      "metadata": {
        "colab": {
          "base_uri": "https://localhost:8080/"
        },
        "id": "EaY9GTzQ6hGu",
        "outputId": "e3879458-55b1-4c82-a947-f44262017cec"
      },
      "execution_count": 119,
      "outputs": [
        {
          "output_type": "execute_result",
          "data": {
            "text/plain": [
              "['werw', 423, 4236, 42324, 'dfdsf', 7, 35290, 345345, 'ffs']"
            ]
          },
          "metadata": {},
          "execution_count": 119
        }
      ]
    },
    {
      "cell_type": "code",
      "source": [
        "csll.deleteNode(-1)"
      ],
      "metadata": {
        "id": "R3rH9m4i6jV3"
      },
      "execution_count": 120,
      "outputs": []
    },
    {
      "cell_type": "code",
      "source": [
        "[node.value for node in csll]"
      ],
      "metadata": {
        "colab": {
          "base_uri": "https://localhost:8080/"
        },
        "id": "Dm1gYiMh6mve",
        "outputId": "fd521f40-3838-4577-ee0e-0ddbabca54d8"
      },
      "execution_count": 121,
      "outputs": [
        {
          "output_type": "execute_result",
          "data": {
            "text/plain": [
              "['werw', 423, 4236, 42324, 'dfdsf', 7, 35290, 345345]"
            ]
          },
          "metadata": {},
          "execution_count": 121
        }
      ]
    },
    {
      "cell_type": "code",
      "source": [
        "csll.deleteNode(2)"
      ],
      "metadata": {
        "id": "0UbxFJgD6oqC"
      },
      "execution_count": 122,
      "outputs": []
    },
    {
      "cell_type": "code",
      "source": [
        "[node.value for node in csll]"
      ],
      "metadata": {
        "colab": {
          "base_uri": "https://localhost:8080/"
        },
        "id": "3GU_XwvK6r0S",
        "outputId": "11516a5e-b77d-4987-9dcf-438159666e1f"
      },
      "execution_count": 123,
      "outputs": [
        {
          "output_type": "execute_result",
          "data": {
            "text/plain": [
              "['werw', 423, 42324, 'dfdsf', 7, 35290, 345345]"
            ]
          },
          "metadata": {},
          "execution_count": 123
        }
      ]
    },
    {
      "cell_type": "markdown",
      "source": [
        "## **Doubly Linked List:**"
      ],
      "metadata": {
        "id": "_Q1YUh-aCne8"
      }
    },
    {
      "cell_type": "code",
      "source": [
        "class Node:\n",
        "  def __init__(self, value=None):\n",
        "    self.prev = None\n",
        "    self.value = value\n",
        "    self.next = None\n",
        "\n",
        "class DoublyLinkedList:\n",
        "  def __init__(self):\n",
        "    self.head = None\n",
        "    self.tail = None\n",
        "\n",
        "  def __iter__(self):\n",
        "    node = self.head\n",
        "    while node:\n",
        "      yield node\n",
        "      node = node.next\n",
        "\n",
        "  # Creation of doubly linked list\n",
        "  def createDLL(self, nodeValue):\n",
        "    node = Node(nodeValue)\n",
        "    node.prev = None\n",
        "    node.next = None\n",
        "    self.head = node\n",
        "    self.tail = node\n",
        "    return 'The Doubly Linked List has been created'\n",
        "\n",
        "  # Inserting a given node into a doubly linked list\n",
        "  def insertDLL(self,nodeValue,location):\n",
        "    if self.head is None:\n",
        "      return 'The list is empty'\n",
        "    else:\n",
        "      newNode = Node(nodeValue)\n",
        "      if location==0:\n",
        "        newNode.next = self.head\n",
        "        self.head.prev = newNode\n",
        "        self.head = newNode\n",
        "      elif location == -1:\n",
        "        self.tail.next = newNode\n",
        "        newNode.prev = self.tail\n",
        "        self.tail = newNode\n",
        "      else:\n",
        "        node = self.head\n",
        "        index = 0\n",
        "        while index < location-1:\n",
        "          node = node.next\n",
        "          index+=1\n",
        "        nextNode = node.next\n",
        "        newNode.next = nextNode\n",
        "        newNode.prev = node\n",
        "        nextNode.prev = newNode\n",
        "        node.next = newNode\n",
        "  # traversing a doubly linked list\n",
        "  def traverseDLL(self):\n",
        "    if self.head is None:\n",
        "      print('The list does not exist')\n",
        "    else:\n",
        "      node = self.head\n",
        "      while node:\n",
        "        print(node.value)\n",
        "        node = node.next\n",
        "  # reverese traversal of doubly linked list\n",
        "  def revereseTraverseDLL(self):\n",
        "    if self.tail is None:\n",
        "      print('The list does not exist')\n",
        "    else:\n",
        "      node = self.tail\n",
        "      while node:\n",
        "        print(node.value)\n",
        "        node = node.prev\n",
        "  \n",
        "  # searching for a given value in a doubly linked list\n",
        "  def searchDLL(self, value):\n",
        "    if self.head is None:\n",
        "      return 'The list is empty'\n",
        "    else:\n",
        "      node = self.head\n",
        "      while node:\n",
        "        if node.value == value:\n",
        "          return node.value          \n",
        "          break\n",
        "        node = node.next        \n",
        "      return 'The value is not found in the list'\n",
        "  # deleting a node in doubly linked list\n",
        "  def deleteNode(self,location):\n",
        "    if self.head is None:\n",
        "      return 'The linked list is empty'\n",
        "    else:\n",
        "      if location == 0:\n",
        "        if self.head == self.tail:\n",
        "          self.head = None\n",
        "          self.tail = None\n",
        "        else:\n",
        "          self.head.next.prev = None\n",
        "          self.head = self.head.next\n",
        "      elif location == -1:\n",
        "        if self.head == self.tail:\n",
        "          self.head = None\n",
        "          self.tail = None\n",
        "        else:\n",
        "          newLastNode = self.tail.prev\n",
        "          self.tail = newLastNode\n",
        "          newLastNode.next.prev = None\n",
        "          newLastNode.next = None\n",
        "      else:\n",
        "        node = self.head\n",
        "        index = 0\n",
        "        while index<location-1:\n",
        "          node = node.next\n",
        "          index+=1\n",
        "        delNode = node.next\n",
        "        node.next = delNode.next\n",
        "        delNode.next.prev = node\n",
        "        delNode.prev = None\n",
        "        delNode.next = None\n",
        "  \n",
        "  # Deleting an entire doubly linked list\n",
        "  def deleteDLL(self):\n",
        "    if self.head is None:\n",
        "      return 'The list is already empty'\n",
        "    else:\n",
        "      node = self.head\n",
        "      while node:\n",
        "        node.prev = None\n",
        "        node = node.next\n",
        "      self.tail = None\n",
        "      self.head = None\n",
        "      print('The DLL has been successfully deleted')"
      ],
      "metadata": {
        "id": "Affa8Wri6tvC"
      },
      "execution_count": 223,
      "outputs": []
    },
    {
      "cell_type": "code",
      "source": [
        "dll = DoublyLinkedList()"
      ],
      "metadata": {
        "id": "ZJW3vrChDz2f"
      },
      "execution_count": 224,
      "outputs": []
    },
    {
      "cell_type": "code",
      "source": [
        "dll.createDLL(324)"
      ],
      "metadata": {
        "colab": {
          "base_uri": "https://localhost:8080/",
          "height": 35
        },
        "id": "doVcmoV0D3Fb",
        "outputId": "1fe7df86-e695-45a1-8d3c-1ba420427602"
      },
      "execution_count": 225,
      "outputs": [
        {
          "output_type": "execute_result",
          "data": {
            "text/plain": [
              "'The Doubly Linked List has been created'"
            ],
            "application/vnd.google.colaboratory.intrinsic+json": {
              "type": "string"
            }
          },
          "metadata": {},
          "execution_count": 225
        }
      ]
    },
    {
      "cell_type": "code",
      "source": [
        "[node.value for node in dll]"
      ],
      "metadata": {
        "colab": {
          "base_uri": "https://localhost:8080/"
        },
        "id": "g7x5gM6oD7DH",
        "outputId": "c11d73d5-29ec-4806-f1d2-27ed1f61eb36"
      },
      "execution_count": 226,
      "outputs": [
        {
          "output_type": "execute_result",
          "data": {
            "text/plain": [
              "[324]"
            ]
          },
          "metadata": {},
          "execution_count": 226
        }
      ]
    },
    {
      "cell_type": "code",
      "source": [
        "dll.insertDLL(2343,0)"
      ],
      "metadata": {
        "id": "TacSIo8mEANE"
      },
      "execution_count": 227,
      "outputs": []
    },
    {
      "cell_type": "code",
      "source": [
        "[node.value for node in dll]"
      ],
      "metadata": {
        "colab": {
          "base_uri": "https://localhost:8080/"
        },
        "id": "gCaV6y1QZnRk",
        "outputId": "1264d328-eece-48cb-c63a-ab32c420d24e"
      },
      "execution_count": 228,
      "outputs": [
        {
          "output_type": "execute_result",
          "data": {
            "text/plain": [
              "[2343, 324]"
            ]
          },
          "metadata": {},
          "execution_count": 228
        }
      ]
    },
    {
      "cell_type": "code",
      "source": [
        "dll.insertDLL(22343,0)\n",
        "dll.insertDLL(9787,0)\n",
        "dll.insertDLL(24,0)\n",
        "dll.insertDLL(8,0)\n",
        "dll.insertDLL('dfsg',0)\n",
        "dll.insertDLL(98873,0)\n",
        "dll.insertDLL('hrgjhfjf',0)\n",
        "dll.insertDLL('qwqere',0)"
      ],
      "metadata": {
        "id": "rgQVPL4iZrKB"
      },
      "execution_count": 229,
      "outputs": []
    },
    {
      "cell_type": "code",
      "source": [
        "[node.value for node in dll]"
      ],
      "metadata": {
        "colab": {
          "base_uri": "https://localhost:8080/"
        },
        "id": "itoeTyWNaiLF",
        "outputId": "ad22361b-903b-4af5-85d3-91279577c618"
      },
      "execution_count": 230,
      "outputs": [
        {
          "output_type": "execute_result",
          "data": {
            "text/plain": [
              "['qwqere', 'hrgjhfjf', 98873, 'dfsg', 8, 24, 9787, 22343, 2343, 324]"
            ]
          },
          "metadata": {},
          "execution_count": 230
        }
      ]
    },
    {
      "cell_type": "code",
      "source": [
        "dll.insertDLL('qwqere',-1)"
      ],
      "metadata": {
        "id": "UxWozr08ajpV"
      },
      "execution_count": 231,
      "outputs": []
    },
    {
      "cell_type": "code",
      "source": [
        "dll.insertDLL('bs',2)"
      ],
      "metadata": {
        "id": "vq9RUdMJanSU"
      },
      "execution_count": 232,
      "outputs": []
    },
    {
      "cell_type": "code",
      "source": [
        "[node.value for node in dll]"
      ],
      "metadata": {
        "colab": {
          "base_uri": "https://localhost:8080/"
        },
        "id": "rqagNTVaarG-",
        "outputId": "2c231e0e-fc23-4749-ecd6-2f864c71af12"
      },
      "execution_count": 233,
      "outputs": [
        {
          "output_type": "execute_result",
          "data": {
            "text/plain": [
              "['qwqere',\n",
              " 'hrgjhfjf',\n",
              " 'bs',\n",
              " 98873,\n",
              " 'dfsg',\n",
              " 8,\n",
              " 24,\n",
              " 9787,\n",
              " 22343,\n",
              " 2343,\n",
              " 324,\n",
              " 'qwqere']"
            ]
          },
          "metadata": {},
          "execution_count": 233
        }
      ]
    },
    {
      "cell_type": "code",
      "source": [
        "dll.traverseDLL()"
      ],
      "metadata": {
        "colab": {
          "base_uri": "https://localhost:8080/"
        },
        "id": "RsqgcfABas1h",
        "outputId": "fedb41bf-9bef-484a-e752-57308bc086f5"
      },
      "execution_count": 234,
      "outputs": [
        {
          "output_type": "stream",
          "name": "stdout",
          "text": [
            "qwqere\n",
            "hrgjhfjf\n",
            "bs\n",
            "98873\n",
            "dfsg\n",
            "8\n",
            "24\n",
            "9787\n",
            "22343\n",
            "2343\n",
            "324\n",
            "qwqere\n"
          ]
        }
      ]
    },
    {
      "cell_type": "code",
      "source": [
        "dll.revereseTraverseDLL()"
      ],
      "metadata": {
        "colab": {
          "base_uri": "https://localhost:8080/"
        },
        "id": "XwUB-3OYbNN-",
        "outputId": "a24bd105-fc6f-49d7-d993-d7b1c8cec0c7"
      },
      "execution_count": 235,
      "outputs": [
        {
          "output_type": "stream",
          "name": "stdout",
          "text": [
            "qwqere\n",
            "324\n",
            "2343\n",
            "22343\n",
            "9787\n",
            "24\n",
            "8\n",
            "dfsg\n",
            "98873\n",
            "bs\n",
            "hrgjhfjf\n",
            "qwqere\n"
          ]
        }
      ]
    },
    {
      "cell_type": "code",
      "source": [
        "dll.searchDLL(324)"
      ],
      "metadata": {
        "colab": {
          "base_uri": "https://localhost:8080/"
        },
        "id": "dTxfwa3Lbr_h",
        "outputId": "793658b4-bb05-469a-be1e-1fafce323d42"
      },
      "execution_count": 236,
      "outputs": [
        {
          "output_type": "execute_result",
          "data": {
            "text/plain": [
              "324"
            ]
          },
          "metadata": {},
          "execution_count": 236
        }
      ]
    },
    {
      "cell_type": "code",
      "source": [
        "dll.searchDLL('qwqere')"
      ],
      "metadata": {
        "colab": {
          "base_uri": "https://localhost:8080/",
          "height": 35
        },
        "id": "jI1Z86agdBUR",
        "outputId": "e24a2e4d-2c57-458b-bcfd-bdb9be62be7e"
      },
      "execution_count": 237,
      "outputs": [
        {
          "output_type": "execute_result",
          "data": {
            "text/plain": [
              "'qwqere'"
            ],
            "application/vnd.google.colaboratory.intrinsic+json": {
              "type": "string"
            }
          },
          "metadata": {},
          "execution_count": 237
        }
      ]
    },
    {
      "cell_type": "code",
      "source": [
        "dll.searchDLL('infinity')"
      ],
      "metadata": {
        "colab": {
          "base_uri": "https://localhost:8080/",
          "height": 35
        },
        "id": "LsX4b0bSdEkW",
        "outputId": "b3ea2f3a-1a86-4bd1-cee9-edcd442b9c36"
      },
      "execution_count": 238,
      "outputs": [
        {
          "output_type": "execute_result",
          "data": {
            "text/plain": [
              "'The value is not found in the list'"
            ],
            "application/vnd.google.colaboratory.intrinsic+json": {
              "type": "string"
            }
          },
          "metadata": {},
          "execution_count": 238
        }
      ]
    },
    {
      "cell_type": "code",
      "source": [
        "[node.value for node in dll]"
      ],
      "metadata": {
        "colab": {
          "base_uri": "https://localhost:8080/"
        },
        "id": "owpX6k7bdHLO",
        "outputId": "654898c4-aa88-4803-cc1a-61653e73b26b"
      },
      "execution_count": 239,
      "outputs": [
        {
          "output_type": "execute_result",
          "data": {
            "text/plain": [
              "['qwqere',\n",
              " 'hrgjhfjf',\n",
              " 'bs',\n",
              " 98873,\n",
              " 'dfsg',\n",
              " 8,\n",
              " 24,\n",
              " 9787,\n",
              " 22343,\n",
              " 2343,\n",
              " 324,\n",
              " 'qwqere']"
            ]
          },
          "metadata": {},
          "execution_count": 239
        }
      ]
    },
    {
      "cell_type": "code",
      "source": [
        "dll.deleteNode(0)"
      ],
      "metadata": {
        "id": "V7IBlrHtgLTK"
      },
      "execution_count": 240,
      "outputs": []
    },
    {
      "cell_type": "code",
      "source": [
        "[node.value for node in dll]"
      ],
      "metadata": {
        "colab": {
          "base_uri": "https://localhost:8080/"
        },
        "id": "0SkJAyFggOOi",
        "outputId": "461aea5d-f3d1-439c-c8e7-8db36a71eba7"
      },
      "execution_count": 241,
      "outputs": [
        {
          "output_type": "execute_result",
          "data": {
            "text/plain": [
              "['hrgjhfjf', 'bs', 98873, 'dfsg', 8, 24, 9787, 22343, 2343, 324, 'qwqere']"
            ]
          },
          "metadata": {},
          "execution_count": 241
        }
      ]
    },
    {
      "cell_type": "code",
      "source": [
        "dll.deleteNode(-1)"
      ],
      "metadata": {
        "id": "VkURUvhPgQNp"
      },
      "execution_count": 242,
      "outputs": []
    },
    {
      "cell_type": "code",
      "source": [
        "[node.value for node in dll]"
      ],
      "metadata": {
        "colab": {
          "base_uri": "https://localhost:8080/"
        },
        "id": "3OGskFvlgSq9",
        "outputId": "30fa1b4a-c812-45d6-b815-ea78b8bfeb7b"
      },
      "execution_count": 243,
      "outputs": [
        {
          "output_type": "execute_result",
          "data": {
            "text/plain": [
              "['hrgjhfjf', 'bs', 98873, 'dfsg', 8, 24, 9787, 22343, 2343, 324]"
            ]
          },
          "metadata": {},
          "execution_count": 243
        }
      ]
    },
    {
      "cell_type": "code",
      "source": [
        "dll.deleteNode(3)"
      ],
      "metadata": {
        "id": "7Afyb7iygThn"
      },
      "execution_count": 244,
      "outputs": []
    },
    {
      "cell_type": "code",
      "source": [
        "[node.value for node in dll]"
      ],
      "metadata": {
        "colab": {
          "base_uri": "https://localhost:8080/"
        },
        "id": "zrJnqD8XgVY5",
        "outputId": "8cb16497-e310-4b3d-cc12-0055d441d7f1"
      },
      "execution_count": 245,
      "outputs": [
        {
          "output_type": "execute_result",
          "data": {
            "text/plain": [
              "['hrgjhfjf', 'bs', 98873, 8, 24, 9787, 22343, 2343, 324]"
            ]
          },
          "metadata": {},
          "execution_count": 245
        }
      ]
    },
    {
      "cell_type": "markdown",
      "source": [
        "## **Circular Doubly linked list**"
      ],
      "metadata": {
        "id": "T4G7O6GTtSjC"
      }
    },
    {
      "cell_type": "code",
      "source": [
        "class CirculaDoublyLinkedList:\n",
        "  def __init__(self):\n",
        "    self.head = None\n",
        "    self.tail = None\n",
        "\n",
        "  def __iter__(self):\n",
        "    node = self.head\n",
        "    while node:\n",
        "      yield node\n",
        "      node = node.next\n",
        "      if node == self.tail.next:\n",
        "        break\n",
        "  \n",
        "  # Creation of a circular doubly linked list\n",
        "  def createCDLL(self, nodeValue):\n",
        "    node = Node(nodeValue)\n",
        "    self.head = node\n",
        "    self.tail = node\n",
        "    node.prev = node\n",
        "    node.next = node\n",
        "    return 'The CDLL is created successfully'\n",
        "\n",
        "  # Inserting a new node\n",
        "  def insertNode(self, nodeValue, location):\n",
        "    if self.head is None:\n",
        "      return 'The list is empty'\n",
        "    newNode = Node(nodeValue)\n",
        "    if location == 0:\n",
        "      newNode.next = self.head\n",
        "      self.head.prev = newNode\n",
        "      self.head = newNode\n",
        "      newNode.prev = self.tail\n",
        "      self.tail.next = newNode\n",
        "    elif location == -1:\n",
        "      newNode.prev = self.tail\n",
        "      self.tail.next = newNode\n",
        "      self.tail = newNode\n",
        "      self.head.prev = newNode\n",
        "      newNode.next = self.head\n",
        "    else:\n",
        "      node = self.head\n",
        "      index = 0\n",
        "      while index < location-1:\n",
        "        node = node.next\n",
        "        index += 1\n",
        "      nextNode = node.next\n",
        "      node.next = newNode\n",
        "      newNode.prev = node\n",
        "      newNode.next = nextNode\n",
        "      nextNode.prev = newNode\n",
        "    return 'The node has been inserted successfully'\n",
        "\n",
        "  # traversing circular doubly linked list\n",
        "  def traverseCDLL(self):\n",
        "    node = self.head\n",
        "    while node:\n",
        "      print(node.value)\n",
        "      node = node.next\n",
        "      if node==self.tail.next:\n",
        "        break\n",
        "  \n",
        "  # Reverse traversal of circular doubly linked list\n",
        "  def reverseTraversalCDLL(self):\n",
        "    node = self.tail\n",
        "    while node:\n",
        "      print(node.value)\n",
        "      node = node.prev\n",
        "      if node == self.head.prev:\n",
        "        break\n",
        "  \n",
        "  # Search for a given value in the circular doubly linked list\n",
        "  def searchCDLL(self,value):\n",
        "    if self.head is None:\n",
        "      return 'The list is empty'\n",
        "    else:\n",
        "      node = self.head\n",
        "      while node:\n",
        "        if node.value == value:\n",
        "          return node.value\n",
        "        if node.next==self.head:\n",
        "          break\n",
        "        node = node.next\n",
        "        \n",
        "      return 'The value does not exist in the list'\n",
        "\n",
        "  # Delete a node in a circular doubly linked list\n",
        "  def deleteNode(self,location):\n",
        "    if self.head is None:\n",
        "      return 'The list does not exist'\n",
        "    else:\n",
        "      if location == 0:\n",
        "        if self.head == self.tail:\n",
        "          self.head.prev = None\n",
        "          self.head.next = None\n",
        "          self.head = None\n",
        "          self.tail = None\n",
        "        else:\n",
        "          newFirstNode = self.head.next\n",
        "          self.head.next = None\n",
        "          newFirstNode.prev = self.tail\n",
        "          self.head.prev = None\n",
        "          self.tail.next = newFirstNode\n",
        "          self.head = newFirstNode\n",
        "      elif location == -1:\n",
        "        if self.head == self.tail:\n",
        "          self.head.prev = None\n",
        "          self.head.next = None\n",
        "          self.head = None\n",
        "          self.tail = None\n",
        "        else:\n",
        "          newLastNode = self.tail.prev\n",
        "          self.tail.prev = None\n",
        "          newLastNode.next = self.head\n",
        "          self.head.prev = newLastNode\n",
        "          self.tail = newLastNode\n",
        "      else:\n",
        "        node = self.head\n",
        "        index = 0\n",
        "        while index<location-1:\n",
        "          node = node.next\n",
        "          index+=1\n",
        "        delNode = node.next\n",
        "        node.next = delNode.next\n",
        "        delNode.next.prev = node\n",
        "        delNode.prev = None\n",
        "        delNode.next = None\n",
        "    return 'The node at the given location has been successfully deleted'\n",
        "\n",
        "  # delete entire cdll\n",
        "  def deleteCDLL(self):\n",
        "    if self.head is None:\n",
        "      return 'The list does not exist'\n",
        "    else:\n",
        "      self.tail.next = None\n",
        "      node = self.head\n",
        "      while node:\n",
        "        node.prev = None\n",
        "        node = node.next\n",
        "        self.head = None\n",
        "        self.tail = None\n",
        "      return 'The entire CDLL has been deleted'"
      ],
      "metadata": {
        "id": "XPCtp-k-gWIK"
      },
      "execution_count": 333,
      "outputs": []
    },
    {
      "cell_type": "code",
      "source": [
        "cdll = CirculaDoublyLinkedList()"
      ],
      "metadata": {
        "id": "AaFEhVAdv13o"
      },
      "execution_count": 334,
      "outputs": []
    },
    {
      "cell_type": "code",
      "source": [
        "cdll.createCDLL(3242332)"
      ],
      "metadata": {
        "colab": {
          "base_uri": "https://localhost:8080/",
          "height": 35
        },
        "id": "RMBTrkFnv5SQ",
        "outputId": "52d827a0-bed1-4e56-c408-71575ef06f68"
      },
      "execution_count": 335,
      "outputs": [
        {
          "output_type": "execute_result",
          "data": {
            "text/plain": [
              "'The CDLL is created successfully'"
            ],
            "application/vnd.google.colaboratory.intrinsic+json": {
              "type": "string"
            }
          },
          "metadata": {},
          "execution_count": 335
        }
      ]
    },
    {
      "cell_type": "code",
      "source": [
        "[node.value for node in cdll]"
      ],
      "metadata": {
        "colab": {
          "base_uri": "https://localhost:8080/"
        },
        "id": "PN40GAQ7v7pc",
        "outputId": "fd47c258-ca05-4116-c533-ee6523711f34"
      },
      "execution_count": 336,
      "outputs": [
        {
          "output_type": "execute_result",
          "data": {
            "text/plain": [
              "[3242332]"
            ]
          },
          "metadata": {},
          "execution_count": 336
        }
      ]
    },
    {
      "cell_type": "code",
      "source": [
        "cdll.insertNode('fdsfsd',0)"
      ],
      "metadata": {
        "colab": {
          "base_uri": "https://localhost:8080/",
          "height": 35
        },
        "id": "JBGERdN7v_Qu",
        "outputId": "51beee4d-7607-4ae7-b708-a66de2936c75"
      },
      "execution_count": 337,
      "outputs": [
        {
          "output_type": "execute_result",
          "data": {
            "text/plain": [
              "'The node has been inserted successfully'"
            ],
            "application/vnd.google.colaboratory.intrinsic+json": {
              "type": "string"
            }
          },
          "metadata": {},
          "execution_count": 337
        }
      ]
    },
    {
      "cell_type": "code",
      "source": [
        "[node.value for node in cdll]"
      ],
      "metadata": {
        "colab": {
          "base_uri": "https://localhost:8080/"
        },
        "id": "0dgRG01fy6Lh",
        "outputId": "2f3f2da0-91fa-4be3-8d26-eb102f437a47"
      },
      "execution_count": 338,
      "outputs": [
        {
          "output_type": "execute_result",
          "data": {
            "text/plain": [
              "['fdsfsd', 3242332]"
            ]
          },
          "metadata": {},
          "execution_count": 338
        }
      ]
    },
    {
      "cell_type": "code",
      "source": [
        "cdll.insertNode(8488,-1)\n",
        "cdll.insertNode(46,-1)\n",
        "cdll.insertNode(798441,-1)\n",
        "cdll.insertNode(1,0)\n",
        "cdll.insertNode('werewr',-1)\n",
        "cdll.insertNode(57,-1)\n",
        "cdll.insertNode(222,0)\n",
        "cdll.insertNode('egrh4',3)\n",
        "cdll.insertNode(872,2)\n",
        "cdll.insertNode(7,4)"
      ],
      "metadata": {
        "colab": {
          "base_uri": "https://localhost:8080/",
          "height": 35
        },
        "id": "1JwYXYqyy9dr",
        "outputId": "7256e0e4-dbe0-4189-c3b9-fc3001a2c5fb"
      },
      "execution_count": 339,
      "outputs": [
        {
          "output_type": "execute_result",
          "data": {
            "text/plain": [
              "'The node has been inserted successfully'"
            ],
            "application/vnd.google.colaboratory.intrinsic+json": {
              "type": "string"
            }
          },
          "metadata": {},
          "execution_count": 339
        }
      ]
    },
    {
      "cell_type": "code",
      "source": [
        "[node.value for node in cdll]"
      ],
      "metadata": {
        "colab": {
          "base_uri": "https://localhost:8080/"
        },
        "id": "A-Nkwl9_zWWg",
        "outputId": "ee8a41e7-8146-4c12-d012-3072c14bfaf2"
      },
      "execution_count": 340,
      "outputs": [
        {
          "output_type": "execute_result",
          "data": {
            "text/plain": [
              "[222, 1, 872, 'fdsfsd', 7, 'egrh4', 3242332, 8488, 46, 798441, 'werewr', 57]"
            ]
          },
          "metadata": {},
          "execution_count": 340
        }
      ]
    },
    {
      "cell_type": "code",
      "source": [
        "cdll.traverseCDLL()"
      ],
      "metadata": {
        "colab": {
          "base_uri": "https://localhost:8080/"
        },
        "id": "RQiud1dBzZI_",
        "outputId": "a8a8e36d-3caa-4805-ec5b-f73a4ecb7ea1"
      },
      "execution_count": 341,
      "outputs": [
        {
          "output_type": "stream",
          "name": "stdout",
          "text": [
            "222\n",
            "1\n",
            "872\n",
            "fdsfsd\n",
            "7\n",
            "egrh4\n",
            "3242332\n",
            "8488\n",
            "46\n",
            "798441\n",
            "werewr\n",
            "57\n"
          ]
        }
      ]
    },
    {
      "cell_type": "code",
      "source": [
        "cdll.reverseTraversalCDLL()"
      ],
      "metadata": {
        "colab": {
          "base_uri": "https://localhost:8080/"
        },
        "id": "ks7JDfei0LpX",
        "outputId": "53715b2f-7d67-4dff-c6c1-3c55f6c1fd4c"
      },
      "execution_count": 342,
      "outputs": [
        {
          "output_type": "stream",
          "name": "stdout",
          "text": [
            "57\n",
            "werewr\n",
            "798441\n",
            "46\n",
            "8488\n",
            "3242332\n",
            "egrh4\n",
            "7\n",
            "fdsfsd\n",
            "872\n",
            "1\n",
            "222\n"
          ]
        }
      ]
    },
    {
      "cell_type": "code",
      "source": [
        "cdll.searchCDLL(57)"
      ],
      "metadata": {
        "colab": {
          "base_uri": "https://localhost:8080/"
        },
        "id": "D0he3JKG0hWc",
        "outputId": "930aa3f2-066e-4a0c-a10a-25719ef8290a"
      },
      "execution_count": 343,
      "outputs": [
        {
          "output_type": "execute_result",
          "data": {
            "text/plain": [
              "57"
            ]
          },
          "metadata": {},
          "execution_count": 343
        }
      ]
    },
    {
      "cell_type": "code",
      "source": [
        "cdll.searchCDLL(22)"
      ],
      "metadata": {
        "colab": {
          "base_uri": "https://localhost:8080/",
          "height": 35
        },
        "id": "Ale-ZlU21OSj",
        "outputId": "a54ac1fd-b1b5-4bfc-f71b-47c27cf4bda7"
      },
      "execution_count": 344,
      "outputs": [
        {
          "output_type": "execute_result",
          "data": {
            "text/plain": [
              "'The value does not exist in the list'"
            ],
            "application/vnd.google.colaboratory.intrinsic+json": {
              "type": "string"
            }
          },
          "metadata": {},
          "execution_count": 344
        }
      ]
    },
    {
      "cell_type": "code",
      "source": [
        "cdll.searchCDLL(222)"
      ],
      "metadata": {
        "colab": {
          "base_uri": "https://localhost:8080/"
        },
        "id": "fBYc5lD11QW_",
        "outputId": "f5bd28da-a61d-4cbe-985b-91c09d63ada2"
      },
      "execution_count": 345,
      "outputs": [
        {
          "output_type": "execute_result",
          "data": {
            "text/plain": [
              "222"
            ]
          },
          "metadata": {},
          "execution_count": 345
        }
      ]
    },
    {
      "cell_type": "code",
      "source": [
        "cdll.searchCDLL('egrh4')"
      ],
      "metadata": {
        "colab": {
          "base_uri": "https://localhost:8080/",
          "height": 35
        },
        "id": "NITo8plI1k1t",
        "outputId": "ae95c19c-08d0-4447-b49e-b692fe688198"
      },
      "execution_count": 346,
      "outputs": [
        {
          "output_type": "execute_result",
          "data": {
            "text/plain": [
              "'egrh4'"
            ],
            "application/vnd.google.colaboratory.intrinsic+json": {
              "type": "string"
            }
          },
          "metadata": {},
          "execution_count": 346
        }
      ]
    },
    {
      "cell_type": "code",
      "source": [
        "[node.value for node in cdll]"
      ],
      "metadata": {
        "colab": {
          "base_uri": "https://localhost:8080/"
        },
        "id": "7u1b5_vu1oBw",
        "outputId": "9f0730f0-7a59-4be3-9d2c-0b9bf2d460da"
      },
      "execution_count": 347,
      "outputs": [
        {
          "output_type": "execute_result",
          "data": {
            "text/plain": [
              "[222, 1, 872, 'fdsfsd', 7, 'egrh4', 3242332, 8488, 46, 798441, 'werewr', 57]"
            ]
          },
          "metadata": {},
          "execution_count": 347
        }
      ]
    },
    {
      "cell_type": "code",
      "source": [
        "cdll.deleteNode(0)"
      ],
      "metadata": {
        "colab": {
          "base_uri": "https://localhost:8080/",
          "height": 35
        },
        "id": "90Cf-iwp61tb",
        "outputId": "02ce2ede-185e-4631-b82b-a4d99a74ef6a"
      },
      "execution_count": 348,
      "outputs": [
        {
          "output_type": "execute_result",
          "data": {
            "text/plain": [
              "'The node at the given location has been successfully deleted'"
            ],
            "application/vnd.google.colaboratory.intrinsic+json": {
              "type": "string"
            }
          },
          "metadata": {},
          "execution_count": 348
        }
      ]
    },
    {
      "cell_type": "code",
      "source": [
        "[node.value for node in cdll]"
      ],
      "metadata": {
        "colab": {
          "base_uri": "https://localhost:8080/"
        },
        "id": "aGYV0kYN63wz",
        "outputId": "2e9062ef-4684-4ae1-a956-a45f3d8695e0"
      },
      "execution_count": 349,
      "outputs": [
        {
          "output_type": "execute_result",
          "data": {
            "text/plain": [
              "[1, 872, 'fdsfsd', 7, 'egrh4', 3242332, 8488, 46, 798441, 'werewr', 57]"
            ]
          },
          "metadata": {},
          "execution_count": 349
        }
      ]
    },
    {
      "cell_type": "code",
      "source": [
        "cdll.deleteNode(-1)"
      ],
      "metadata": {
        "colab": {
          "base_uri": "https://localhost:8080/",
          "height": 35
        },
        "id": "9AWCmKP966KT",
        "outputId": "5c536d7b-09cf-4dd7-8f3c-6e353650ace4"
      },
      "execution_count": 350,
      "outputs": [
        {
          "output_type": "execute_result",
          "data": {
            "text/plain": [
              "'The node at the given location has been successfully deleted'"
            ],
            "application/vnd.google.colaboratory.intrinsic+json": {
              "type": "string"
            }
          },
          "metadata": {},
          "execution_count": 350
        }
      ]
    },
    {
      "cell_type": "code",
      "source": [
        "[node.value for node in cdll]"
      ],
      "metadata": {
        "colab": {
          "base_uri": "https://localhost:8080/"
        },
        "id": "1lRZpc-S69_s",
        "outputId": "f50f84e9-81e6-471e-a6df-5ba0b30f87f7"
      },
      "execution_count": 351,
      "outputs": [
        {
          "output_type": "execute_result",
          "data": {
            "text/plain": [
              "[1, 872, 'fdsfsd', 7, 'egrh4', 3242332, 8488, 46, 798441, 'werewr']"
            ]
          },
          "metadata": {},
          "execution_count": 351
        }
      ]
    },
    {
      "cell_type": "code",
      "source": [
        "cdll.deleteNode(3)"
      ],
      "metadata": {
        "colab": {
          "base_uri": "https://localhost:8080/",
          "height": 35
        },
        "id": "fqNDSDOf6-05",
        "outputId": "295c0287-ac5f-46a4-a0b6-34c8b816efc2"
      },
      "execution_count": 352,
      "outputs": [
        {
          "output_type": "execute_result",
          "data": {
            "text/plain": [
              "'The node at the given location has been successfully deleted'"
            ],
            "application/vnd.google.colaboratory.intrinsic+json": {
              "type": "string"
            }
          },
          "metadata": {},
          "execution_count": 352
        }
      ]
    },
    {
      "cell_type": "code",
      "source": [
        "[node.value for node in cdll]"
      ],
      "metadata": {
        "colab": {
          "base_uri": "https://localhost:8080/"
        },
        "id": "wP3PWmHC7BaF",
        "outputId": "85d02328-94bd-4d76-a6bc-44640e42dddb"
      },
      "execution_count": 353,
      "outputs": [
        {
          "output_type": "execute_result",
          "data": {
            "text/plain": [
              "[1, 872, 'fdsfsd', 'egrh4', 3242332, 8488, 46, 798441, 'werewr']"
            ]
          },
          "metadata": {},
          "execution_count": 353
        }
      ]
    },
    {
      "cell_type": "code",
      "source": [
        "cdll.deleteCDLL()"
      ],
      "metadata": {
        "colab": {
          "base_uri": "https://localhost:8080/",
          "height": 35
        },
        "id": "8wdPu2x27DCA",
        "outputId": "d75bc302-4f72-426a-b1c7-3df9404020c6"
      },
      "execution_count": 354,
      "outputs": [
        {
          "output_type": "execute_result",
          "data": {
            "text/plain": [
              "'The entire CDLL has been deleted'"
            ],
            "application/vnd.google.colaboratory.intrinsic+json": {
              "type": "string"
            }
          },
          "metadata": {},
          "execution_count": 354
        }
      ]
    },
    {
      "cell_type": "code",
      "source": [
        "[node.value for node in cdll]"
      ],
      "metadata": {
        "colab": {
          "base_uri": "https://localhost:8080/"
        },
        "id": "S9cgVF1P7-qN",
        "outputId": "1cbbeb25-13fb-4227-9592-9e032632737e"
      },
      "execution_count": 355,
      "outputs": [
        {
          "output_type": "execute_result",
          "data": {
            "text/plain": [
              "[]"
            ]
          },
          "metadata": {},
          "execution_count": 355
        }
      ]
    },
    {
      "cell_type": "markdown",
      "source": [
        "## **Linked List Interview Questions:**"
      ],
      "metadata": {
        "id": "EK6YR5Pj8mnY"
      }
    },
    {
      "cell_type": "code",
      "source": [
        "class Node:\n",
        "  def __init__(self,nodeValue=None):\n",
        "    self.value = nodeValue\n",
        "    self.prev = None\n",
        "    self.next = None\n",
        "  \n",
        "  def __str__(self):\n",
        "    return str(self.value)"
      ],
      "metadata": {
        "id": "xYgESB9q8A0f"
      },
      "execution_count": 358,
      "outputs": []
    },
    {
      "cell_type": "code",
      "source": [
        "from random import randint\n",
        "class LinkedList:\n",
        "  def __init__(self, value = None):\n",
        "    self.head = None\n",
        "    self.tail = None\n",
        "  \n",
        "  def __iter__(self):\n",
        "    node = self.head\n",
        "    while node:\n",
        "      yield node\n",
        "      node = node.next\n",
        "  \n",
        "  def __str__(self):\n",
        "    values = [str(x.value) for x in self]\n",
        "    return ' --> '.join(values)\n",
        "  \n",
        "  def __len__(self):\n",
        "    result = 0\n",
        "    node = self.head\n",
        "    while node:\n",
        "      result += 1\n",
        "      node = node.next\n",
        "    return result\n",
        "  \n",
        "  def add(self,value):\n",
        "    if self.head is None:\n",
        "      newNode = Node(value)\n",
        "      self.head = newNode\n",
        "      self.tail = newNode\n",
        "    else:\n",
        "      self.tail.next = Node(value)\n",
        "      self.tail = self.tail.next\n",
        "    return self.tail\n",
        "  \n",
        "  def generate(self, n, min_value, max_value):\n",
        "    self.head = None\n",
        "    self.tail = None\n",
        "    for i in range(n):\n",
        "      self.add(randint(min_value, max_value))\n",
        "    return self"
      ],
      "metadata": {
        "id": "1gjsL7q29ObY"
      },
      "execution_count": 359,
      "outputs": []
    },
    {
      "cell_type": "code",
      "source": [
        "ll = LinkedList()"
      ],
      "metadata": {
        "id": "ukC_VWF-_Yxb"
      },
      "execution_count": 360,
      "outputs": []
    },
    {
      "cell_type": "code",
      "source": [
        "ll.generate(10,0,99)"
      ],
      "metadata": {
        "colab": {
          "base_uri": "https://localhost:8080/"
        },
        "id": "kFiZfs8Y_kCg",
        "outputId": "0e622b03-b9bd-488b-881c-fe22f42d6bb0"
      },
      "execution_count": 361,
      "outputs": [
        {
          "output_type": "execute_result",
          "data": {
            "text/plain": [
              "<__main__.LinkedList at 0x7f92888e8510>"
            ]
          },
          "metadata": {},
          "execution_count": 361
        }
      ]
    },
    {
      "cell_type": "code",
      "source": [
        "print(ll)"
      ],
      "metadata": {
        "colab": {
          "base_uri": "https://localhost:8080/"
        },
        "id": "0sAFwsyR_mkF",
        "outputId": "f8001986-57cb-4403-dc48-ed5b2f2124ed"
      },
      "execution_count": 362,
      "outputs": [
        {
          "output_type": "stream",
          "name": "stdout",
          "text": [
            "50 --> 34 --> 84 --> 9 --> 40 --> 59 --> 9 --> 39 --> 30 --> 79\n"
          ]
        }
      ]
    },
    {
      "cell_type": "code",
      "source": [
        "len(ll)"
      ],
      "metadata": {
        "colab": {
          "base_uri": "https://localhost:8080/"
        },
        "id": "oqBOSFcS_pEt",
        "outputId": "30257a39-88e8-42c4-e9d5-6051303116ee"
      },
      "execution_count": 363,
      "outputs": [
        {
          "output_type": "execute_result",
          "data": {
            "text/plain": [
              "10"
            ]
          },
          "metadata": {},
          "execution_count": 363
        }
      ]
    },
    {
      "cell_type": "code",
      "source": [
        ""
      ],
      "metadata": {
        "id": "lerZHtWV_u7l"
      },
      "execution_count": null,
      "outputs": []
    }
  ]
}