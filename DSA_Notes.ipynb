{
  "nbformat": 4,
  "nbformat_minor": 0,
  "metadata": {
    "colab": {
      "name": "DSA_Notes.ipynb",
      "provenance": [],
      "authorship_tag": "ABX9TyMsWodIas3T8X+2+ZRkumE4",
      "include_colab_link": true
    },
    "kernelspec": {
      "name": "python3",
      "display_name": "Python 3"
    },
    "language_info": {
      "name": "python"
    }
  },
  "cells": [
    {
      "cell_type": "markdown",
      "metadata": {
        "id": "view-in-github",
        "colab_type": "text"
      },
      "source": [
        "<a href=\"https://colab.research.google.com/github/Nandeesh-U/Coding_Practice_DSA/blob/main/DSA_Notes.ipynb\" target=\"_parent\"><img src=\"https://colab.research.google.com/assets/colab-badge.svg\" alt=\"Open In Colab\"/></a>"
      ]
    },
    {
      "cell_type": "markdown",
      "source": [
        "What makes a good algotithm?\n",
        "* Correctness\n",
        "* Efficiency"
      ],
      "metadata": {
        "id": "PLn82qQ4W1AD"
      }
    },
    {
      "cell_type": "markdown",
      "source": [
        "#**Recursion**"
      ],
      "metadata": {
        "id": "YCs0ATptmcEZ"
      }
    },
    {
      "cell_type": "code",
      "source": [
        "def recursiveMethod(n):\n",
        "  if n<1:\n",
        "    print('n is less than 1')\n",
        "  else:\n",
        "    recursiveMethod(n-1)\n",
        "    print(n)"
      ],
      "metadata": {
        "id": "U9fTl1q8XAP2"
      },
      "execution_count": null,
      "outputs": []
    },
    {
      "cell_type": "code",
      "source": [
        "recursiveMethod(5)"
      ],
      "metadata": {
        "colab": {
          "base_uri": "https://localhost:8080/"
        },
        "id": "rebs3krrmkLy",
        "outputId": "100307e5-a538-4cc9-b1e6-ae77ef78a814"
      },
      "execution_count": null,
      "outputs": [
        {
          "output_type": "stream",
          "name": "stdout",
          "text": [
            "n is less than 1\n",
            "1\n",
            "2\n",
            "3\n",
            "4\n",
            "5\n"
          ]
        }
      ]
    },
    {
      "cell_type": "markdown",
      "source": [
        "Stack Memory when we execute this function:\n",
        "* recursiveMethod(0) which will not be pushed to the stack since it does not call any function inside itself. It just executes the print statement.\n",
        "* recursiveMethod(1)\n",
        "* recursiveMethod(2)\n",
        "* recursiveMethod(3)\n",
        "* recursiveMethod(4)\n",
        "* recursiveMethod(5)"
      ],
      "metadata": {
        "id": "i2OQtbM8m2aV"
      }
    },
    {
      "cell_type": "markdown",
      "source": [
        "Each of the above functions will be popped once the function is executed sequentially from the base condition towards the bottom most funtion in the stack. (execute recursiveMethod(0) which is the base condition, then execute recursiveMethod(1), pop recursiveMethod(1), then execute recursiveMethod(2), pop recursiveMethod(2) and so on until the stack is empty"
      ],
      "metadata": {
        "id": "EHa3C_lYoICl"
      }
    },
    {
      "cell_type": "markdown",
      "source": [
        "## **How to write recursion in 3 steps:**"
      ],
      "metadata": {
        "id": "PF7sgxrbcOVw"
      }
    },
    {
      "cell_type": "markdown",
      "source": [
        "Example: Factorial(n)"
      ],
      "metadata": {
        "id": "91JqCHt9cUSb"
      }
    },
    {
      "cell_type": "markdown",
      "source": [
        "**Step 1: Recursive case or Flow.**\n",
        "* For every recursion problem, the first step we need to identify is the recursive case or flow.\n",
        "* We need to find how a function can be obtained using the same function. In case of factorial function, we need to find an equation to get factorial from another factorial.\n",
        "* It means we need to have an equation, where we have factorial function on LHS as well as RHS. ---> n! = n * (n-1)!\n",
        "\n",
        "```\n",
        "def Factorial(n):\n",
        "  return n * Factorial(n-1)\n",
        "```\n",
        "**Step 2: Base case - the stopping criteria.**\n",
        "* If we do not put the base condition, the stack memory will be exceeded and an error will occur.\n",
        "* Base condition for the factorial function is 1!= 1 / 0! = 1\n",
        "```\n",
        "def Factorial(n):\n",
        "  if n<=1:\n",
        "    return 1\n",
        "  else:\n",
        "    return n*Factorial(n-1) \n",
        "```\n",
        "\n",
        "**Step 3: unintentional case - the constraint**\n",
        "* These are the unintentional cases. For factorial problem, if we put n as a negative number or a non integer number, the function will again run into stack memory error.\n",
        "* We can use the assert keyword in python to throw an error if the condition is not met.\n",
        "\n",
        "```\n",
        "def Factorial(n):\n",
        "  assert n>=0 and int(n)==n, 'The number must be a positive integer only!'\n",
        "  if n<=1:\n",
        "    return 1\n",
        "  else:\n",
        "    return n*Factorial(n-1)   \n",
        "```"
      ],
      "metadata": {
        "id": "iyjnl0P6cYCu"
      }
    },
    {
      "cell_type": "markdown",
      "source": [
        "Recursion problems have stack memory limits. In python you can increase the stack memory limit for recursion using the sys library."
      ],
      "metadata": {
        "id": "E0VC4CG4eALU"
      }
    },
    {
      "cell_type": "code",
      "source": [
        ""
      ],
      "metadata": {
        "id": "vV9nvsbVm1Mw"
      },
      "execution_count": null,
      "outputs": []
    }
  ]
}